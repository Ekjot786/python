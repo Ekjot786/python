{
  "nbformat": 4,
  "nbformat_minor": 0,
  "metadata": {
    "colab": {
      "provenance": [],
      "collapsed_sections": [
        "1C7DP14WfTP8",
        "8mHjEW8bgZg-"
      ],
      "toc_visible": true,
      "include_colab_link": true
    },
    "kernelspec": {
      "name": "python3",
      "display_name": "Python 3"
    },
    "language_info": {
      "name": "python"
    }
  },
  "cells": [
    {
      "cell_type": "markdown",
      "metadata": {
        "id": "view-in-github",
        "colab_type": "text"
      },
      "source": [
        "<a href=\"https://colab.research.google.com/github/Ekjot786/python/blob/main/Assignments_Kanishk.ipynb\" target=\"_parent\"><img src=\"https://colab.research.google.com/assets/colab-badge.svg\" alt=\"Open In Colab\"/></a>"
      ]
    },
    {
      "cell_type": "markdown",
      "source": [
        "# **Assignment-1**"
      ],
      "metadata": {
        "id": "MUitNNH3nppQ"
      }
    },
    {
      "cell_type": "code",
      "source": [
        "#  1. Declare and print\n",
        "\n",
        "name = \"ekjot\"\n",
        "age = 20\n",
        "course = \"AIML\"\n",
        "print(f\" NAME: {name}, AGE: {age}, COURSE: {course}\")\n"
      ],
      "metadata": {
        "colab": {
          "base_uri": "https://localhost:8080/"
        },
        "id": "S6sGCC4znvyq",
        "outputId": "6a70c312-a51b-424e-9296-42f38ba49ed4"
      },
      "execution_count": 2,
      "outputs": [
        {
          "output_type": "stream",
          "name": "stdout",
          "text": [
            " NAME: ekjot, AGE: 20, COURSE: AIML\n"
          ]
        }
      ]
    },
    {
      "cell_type": "code",
      "source": [
        "# 2. Swap two Numbers\n",
        "\n",
        "a=4\n",
        "b=9\n",
        "print(f\"A= {a}, b= {b}\")\n",
        "a,b=b,a\n",
        "print(f\"After swap: A={a} , B={b}\" )\n"
      ],
      "metadata": {
        "colab": {
          "base_uri": "https://localhost:8080/"
        },
        "id": "BNrheyfloFJq",
        "outputId": "dec3a3a2-e00d-4144-c8de-3df8d3a131cf"
      },
      "execution_count": null,
      "outputs": [
        {
          "output_type": "stream",
          "name": "stdout",
          "text": [
            "A= 4, b= 9\n",
            "After swap: A=9 , B=4\n"
          ]
        }
      ]
    },
    {
      "cell_type": "code",
      "source": [
        "# 3. Arithmetic operations\n",
        "\n",
        "x=int(input(\"Enter First number: \"))\n",
        "y=int(input(\"Enter second number: \"))\n",
        "sum=x+y\n",
        "diff=x-y\n",
        "prod=x*y\n",
        "quo=x/y\n",
        "remainder=x%y\n",
        "print(f\"Sum = {sum}\")\n",
        "print(f\"Difference = {diff}\")\n",
        "print(f\"Product = {prod}\")\n",
        "print(f\"Quotient = {quo}\")\n",
        "print(f\"Remainder = {remainder}\")"
      ],
      "metadata": {
        "colab": {
          "base_uri": "https://localhost:8080/"
        },
        "id": "G7WN5ftXoM-a",
        "outputId": "c613e6e9-f6f7-475e-aa4e-bfdb57c8b44c"
      },
      "execution_count": null,
      "outputs": [
        {
          "output_type": "stream",
          "name": "stdout",
          "text": [
            "Enter First number: 4\n",
            "Enter second number: 5\n",
            "Sum = 9\n",
            "Difference = -1\n",
            "Product = 20\n",
            "Quotient = 0.8\n",
            "Remainder = 4\n"
          ]
        }
      ]
    },
    {
      "cell_type": "code",
      "source": [
        "# 4. Percenatge Calculator\n",
        "\n",
        "mat=int(input(\"Enter marks out of 100 in maths: \"))\n",
        "eng=int(input(\"Enter marks out of 100 in English: \"))\n",
        "phy=int(input(\"Enter marks out of 100 in Physics: \"))\n",
        "chem=int(input(\"Enter marks out of 100 in Chemistry: \"))\n",
        "bio=int(input(\"Enter marks out of 100 in Biology: \"))\n",
        "perc=(mat+eng+bio+phy+chem)/5\n",
        "print(\"\\n\")\n",
        "print(f\"Pecentage = {perc}\")"
      ],
      "metadata": {
        "colab": {
          "base_uri": "https://localhost:8080/"
        },
        "id": "0hfrNfIbomT_",
        "outputId": "3fc94466-850e-4cb5-90e5-b30c6f263907"
      },
      "execution_count": null,
      "outputs": [
        {
          "output_type": "stream",
          "name": "stdout",
          "text": [
            "Enter marks out of 100 in maths: 99\n",
            "Enter marks out of 100 in English: 78\n",
            "Enter marks out of 100 in Physics: 89\n",
            "Enter marks out of 100 in Chemistry: 97\n",
            "Enter marks out of 100 in Biology: 88\n",
            "\n",
            "\n",
            "Pecentage = 90.2\n"
          ]
        }
      ]
    },
    {
      "cell_type": "code",
      "source": [
        "# 5. Compound assingment operator\n",
        "\n",
        "x=10\n",
        "print(f\"Initial value of x: {x}\")\n",
        "x+=5\n",
        "print(f\"Adding 5: {x}\")\n",
        "x*=2\n",
        "print(f\"Multiply 2: {x}\")\n",
        "x-=4\n",
        "print(f\"Subtract 4: {x}\")\n",
        "x/=2\n",
        "print(f\"Divide 2: {x}\")"
      ],
      "metadata": {
        "colab": {
          "base_uri": "https://localhost:8080/"
        },
        "id": "a63JQfUFo77x",
        "outputId": "f584827a-516e-45df-fdeb-19cb52c05219"
      },
      "execution_count": null,
      "outputs": [
        {
          "output_type": "stream",
          "name": "stdout",
          "text": [
            "Initial value of x: 10\n",
            "Adding 5: 15\n",
            "Multiply 2: 30\n",
            "Subtract 4: 26\n",
            "Divide 2: 13.0\n"
          ]
        }
      ]
    },
    {
      "cell_type": "code",
      "source": [
        "# 6. Relational operator\n",
        "\n",
        "p=int(input(\"Enter first number: \"))\n",
        "q=int(input(\"Enter second number: \"))\n",
        "if p==q:\n",
        " print(\"They are equal.\")\n",
        "elif p>q:\n",
        " print(f\"{p} is greater than {q}\")\n",
        "else:\n",
        " print(f\"{q} is greater than {p}\")\n"
      ],
      "metadata": {
        "colab": {
          "base_uri": "https://localhost:8080/"
        },
        "id": "GmX9tiCQpCJz",
        "outputId": "db66b912-b35f-40b0-8f57-5e460c665b2b"
      },
      "execution_count": null,
      "outputs": [
        {
          "output_type": "stream",
          "name": "stdout",
          "text": [
            "Enter first number: 99\n",
            "Enter second number: 1\n",
            "99 is greater than 1\n"
          ]
        }
      ]
    },
    {
      "cell_type": "code",
      "source": [
        "#  7. Logical operator\n",
        "\n",
        "a=input(\"Is it raining? (y/n): \")\n",
        "b=input (\"Do you have an umbrella? (y/n):\" )\n",
        "\n",
        "if a==y:\n",
        "  is_raining=True\n",
        "else:\n",
        "  is_raining=False\n",
        "\n",
        "if b==y:\n",
        "  have_umbrella=True\n",
        "else:\n",
        "  have_umbrella=False\n",
        "\n",
        "if (not is_raining or (is_raining and have_umbrella)):\n",
        " print(\"Emjoy outside\")\n",
        "else:\n",
        " print(\"Stay inside\")\n"
      ],
      "metadata": {
        "colab": {
          "base_uri": "https://localhost:8080/"
        },
        "id": "nv76JNhTpNFA",
        "outputId": "8d300476-8dec-47c8-e15c-5ea9746c6fff"
      },
      "execution_count": null,
      "outputs": [
        {
          "output_type": "stream",
          "name": "stdout",
          "text": [
            "Is it raining? (y/n): y\n",
            "Do you have an umbrella? (y/n):y\n",
            "Emjoy outside\n"
          ]
        }
      ]
    },
    {
      "cell_type": "code",
      "source": [
        "# 9. Bitwise operator\n",
        "\n",
        "r=20\n",
        "s=17\n",
        "print(\"Bitwise operation on 20 and 17\")\n",
        "bAND=r&s\n",
        "bOR=r|s\n",
        "bXOR=r^s\n",
        "print(f\"Bitwise AND = {bAND}\")\n",
        "print(f\"Bitwise OR = {bOR}\")\n",
        "print(f\"Bitwise XOR= {bXOR}\")"
      ],
      "metadata": {
        "colab": {
          "base_uri": "https://localhost:8080/"
        },
        "id": "wPAJb8zeqWda",
        "outputId": "b9970d10-83b9-48e8-f572-85b20bcfefcd"
      },
      "execution_count": null,
      "outputs": [
        {
          "output_type": "stream",
          "name": "stdout",
          "text": [
            "Bitwise operation on 20 and 17\n",
            "Bitwise AND = 16\n",
            "Bitwise OR = 21\n",
            "Bitwise XOR= 5\n"
          ]
        }
      ]
    },
    {
      "cell_type": "code",
      "source": [
        "# 10. Variable types and typecasting\n",
        "\n",
        "u=int(input(\"Enter integer: \"))\n",
        "print(type(u))\n",
        "v=float(input(\"Enter float: \"))\n",
        "print(type(v))\n",
        "result=u+v\n",
        "print(int(result))"
      ],
      "metadata": {
        "colab": {
          "base_uri": "https://localhost:8080/"
        },
        "id": "2TyoWeRpqZ2F",
        "outputId": "3af705f8-dd46-479c-a815-8671f4bc0437"
      },
      "execution_count": null,
      "outputs": [
        {
          "output_type": "stream",
          "name": "stdout",
          "text": [
            "Enter integer: 26\n",
            "<class 'int'>\n",
            "Enter float: 2.66666\n",
            "<class 'float'>\n",
            "28\n"
          ]
        }
      ]
    },
    {
      "cell_type": "markdown",
      "source": [
        "# **Assignment-2**"
      ],
      "metadata": {
        "id": "_LSEpF1Ylebo"
      }
    },
    {
      "cell_type": "code",
      "source": [
        "# 1. Write a program to print number from 1 to 10 stop loop when number reach 9\n",
        "for i in range(1,10):\n",
        "  if i==10:\n",
        "    break\n",
        "  else:\n",
        "      print(i)"
      ],
      "metadata": {
        "colab": {
          "base_uri": "https://localhost:8080/"
        },
        "id": "TYStSDNxlswM",
        "outputId": "137b7b7b-4748-4ccb-a447-0b1f55eb360f"
      },
      "execution_count": null,
      "outputs": [
        {
          "output_type": "stream",
          "name": "stdout",
          "text": [
            "1\n",
            "2\n",
            "3\n",
            "4\n",
            "5\n",
            "6\n",
            "7\n",
            "8\n",
            "9\n"
          ]
        }
      ]
    },
    {
      "cell_type": "code",
      "source": [
        "# 2. write a program that keep asking yhe user to enter the number and stop when user enters a negative number\n",
        "while True:\n",
        "   x=int(input(\"enter a number: \"))\n",
        "   if x<0:\n",
        "       break\n",
        "   else:\n",
        "       continue"
      ],
      "metadata": {
        "colab": {
          "base_uri": "https://localhost:8080/"
        },
        "id": "jcQiRevsmIaG",
        "outputId": "5cf33d5f-f8fb-4af3-f812-3eca97ae1a5d"
      },
      "execution_count": null,
      "outputs": [
        {
          "name": "stdout",
          "output_type": "stream",
          "text": [
            "enter a number: 56\n",
            "enter a number: 34\n",
            "enter a number: -1\n"
          ]
        }
      ]
    },
    {
      "cell_type": "code",
      "source": [
        "# 3. writ a program to find first even number in a list using for loop and break\n",
        "a=[1,2,3,4,5,6,7,8,9,0]\n",
        "for i in a:\n",
        "   if i%2==0:\n",
        "    print(\"This is the first even number: \", i)\n",
        "    break\n",
        "   else:\n",
        "       continue"
      ],
      "metadata": {
        "colab": {
          "base_uri": "https://localhost:8080/"
        },
        "id": "Sj_s-onZmPml",
        "outputId": "b3c848a3-b34d-4b35-875c-5e8c179e763c"
      },
      "execution_count": null,
      "outputs": [
        {
          "output_type": "stream",
          "name": "stdout",
          "text": [
            "This is the first even number:  2\n"
          ]
        }
      ]
    },
    {
      "cell_type": "code",
      "source": [
        "# 4. Keep adding numbers until total sum exceeds 25 print last sum and digit\n",
        "sum=0\n",
        "for i in range(0,100):\n",
        "    sum+=i\n",
        "    if sum>25:\n",
        "        print(sum)\n",
        "        print(i)\n",
        "        break"
      ],
      "metadata": {
        "colab": {
          "base_uri": "https://localhost:8080/"
        },
        "id": "B97jtrIfm6lP",
        "outputId": "7eea85a3-f6d3-4505-efb9-c2815088b894"
      },
      "execution_count": null,
      "outputs": [
        {
          "output_type": "stream",
          "name": "stdout",
          "text": [
            "28\n",
            "7\n"
          ]
        }
      ]
    },
    {
      "cell_type": "code",
      "source": [
        "# 5. Keep asking the user to guess the password until they gues admin123 use while and break\n",
        "while True:\n",
        "    x=input(\"enter password: \")\n",
        "    if x=='admin123':\n",
        "        print(\"Correct password\")\n",
        "        break\n",
        "    else:\n",
        "        print(\"Try again\")"
      ],
      "metadata": {
        "colab": {
          "base_uri": "https://localhost:8080/"
        },
        "id": "IJ2wzN87m-nE",
        "outputId": "f78b3b54-b489-4886-94c9-666d9826cc43"
      },
      "execution_count": null,
      "outputs": [
        {
          "output_type": "stream",
          "name": "stdout",
          "text": [
            "enter password: yrhrhfhf\n",
            "Try again\n",
            "enter password: admin123\n",
            "Correct password\n"
          ]
        }
      ]
    },
    {
      "cell_type": "code",
      "source": [
        "# 6. Print the multiples of 7 using while loop stop if value is greater than 100\n",
        "x=7\n",
        "while x<=100:\n",
        "    print(x)\n",
        "    x+=7"
      ],
      "metadata": {
        "colab": {
          "base_uri": "https://localhost:8080/"
        },
        "id": "bR1PRhK3nFkF",
        "outputId": "6ca7be04-6a95-4737-a14b-635862167d7d"
      },
      "execution_count": null,
      "outputs": [
        {
          "output_type": "stream",
          "name": "stdout",
          "text": [
            "7\n",
            "14\n",
            "21\n",
            "28\n",
            "35\n",
            "42\n",
            "49\n",
            "56\n",
            "63\n",
            "70\n",
            "77\n",
            "84\n",
            "91\n",
            "98\n"
          ]
        }
      ]
    },
    {
      "cell_type": "code",
      "source": [
        "# 7. Give a number, print each digit until zero is found\n",
        "\n",
        "while True:\n",
        "  x=int(input(\"Enter a number: \"))\n",
        "  if x==0:\n",
        "    print(\"Zero Found\")\n",
        "    break\n",
        "  else:\n",
        "    print(\"Not zero\")\n"
      ],
      "metadata": {
        "colab": {
          "base_uri": "https://localhost:8080/"
        },
        "id": "KFNN6sRGnJXj",
        "outputId": "92679e1b-668c-4e2b-dec1-e926dec3d5ca"
      },
      "execution_count": null,
      "outputs": [
        {
          "output_type": "stream",
          "name": "stdout",
          "text": [
            "Enter a number: 4\n",
            "Not zero\n",
            "Enter a number: 5\n",
            "Not zero\n",
            "Enter a number: 6\n",
            "Not zero\n",
            "Enter a number: 0\n",
            "Zero Found\n"
          ]
        }
      ]
    },
    {
      "cell_type": "markdown",
      "source": [
        "# **Assignment-3**"
      ],
      "metadata": {
        "id": "1C7DP14WfTP8"
      }
    },
    {
      "cell_type": "code",
      "execution_count": null,
      "metadata": {
        "colab": {
          "base_uri": "https://localhost:8080/"
        },
        "id": "fhx3TolbvtlW",
        "outputId": "eca43aea-d22d-418c-c160-76338fdaeadd"
      },
      "outputs": [
        {
          "output_type": "stream",
          "name": "stdout",
          "text": [
            "Enter a sentence: I love Python\n",
            "Reversed sentence: Python love I\n"
          ]
        }
      ],
      "source": [
        "# 1. Take a sentence and reverse the order of its words. Example \"I love Python\" → \"Python love I\".\n",
        "\n",
        "x= input(\"Enter a sentence: \")\n",
        "\n",
        "l1= x.split()\n",
        "\n",
        "\n",
        "l2 =l1[::-1]\n",
        "\n",
        "y = ' '.join(l2)\n",
        "\n",
        "print(\"Reversed sentence:\", y)\n"
      ]
    },
    {
      "cell_type": "code",
      "source": [
        "# 2. Given a string of consonants (non-vowels, ignoring case). Example \"Hello World\" → 7(H,l,l,W,r,l,d).\n",
        "\n",
        "x=input(\"Enter a string: \")\n",
        "\n",
        "vowels='aeiouAEIOU'\n",
        "\n",
        "consonants=[ i for i in x if i.isalpha() and i not in vowels ]\n",
        "\n",
        "count=len(consonants)\n",
        "\n",
        "print(f\"{count}({','.join(consonants)})\")"
      ],
      "metadata": {
        "colab": {
          "base_uri": "https://localhost:8080/"
        },
        "id": "_FDI7l4izXX1",
        "outputId": "e77a457e-b8ca-4c67-8270-e412c0d81a7c"
      },
      "execution_count": null,
      "outputs": [
        {
          "output_type": "stream",
          "name": "stdout",
          "text": [
            "Enter a string: Hello World\n",
            "7(H,l,l,W,r,l,d)\n"
          ]
        }
      ]
    },
    {
      "cell_type": "code",
      "source": [
        "# 3. Check if two strings are anagrams (same characters, same frequency, ignoring case). Example: \"Listen\", \"Silent\" → \"Anagram\", \"Hello\" \"world\" → \"Not Anagram\".\n",
        "\n",
        "x=input(\"Enter first string: \")\n",
        "y=input(\"Enter second string: \")\n",
        "\n",
        "s1=x.replace(\" \",\"\").upper()\n",
        "s2=y.replace(\" \",\"\").upper()\n",
        "\n",
        "if sorted(s1) == sorted(s2):\n",
        "  print(\"Anagram\")\n",
        "else:\n",
        "  print(\"Not Anagram\")"
      ],
      "metadata": {
        "colab": {
          "base_uri": "https://localhost:8080/"
        },
        "id": "DNxeIdnM1sEh",
        "outputId": "421f6130-83c7-4175-9cad-593076a56275"
      },
      "execution_count": null,
      "outputs": [
        {
          "output_type": "stream",
          "name": "stdout",
          "text": [
            "Enter first string: Listen\n",
            "Enter second string: Silent\n",
            "Anagram\n"
          ]
        }
      ]
    },
    {
      "cell_type": "code",
      "source": [
        "# 4. Find the first character in a string that appears only once (case-sensitive). Example: \"Swiss\" → \"w\" \"Programming → \"r\".\n",
        "\n",
        "x=input(\"Enter a string: \")\n",
        "\n",
        "s1=x.replace(\" \",\"\").upper()\n",
        "\n",
        "for i in s1:\n",
        "  if s1.count(i)==1:\n",
        "    print(i)\n",
        "    break\n",
        "else:\n",
        "    print(\"None\")\n"
      ],
      "metadata": {
        "colab": {
          "base_uri": "https://localhost:8080/"
        },
        "id": "kX8eldsx3vaB",
        "outputId": "adedd473-76aa-4cf6-fd4e-e4b5d840f6a9"
      },
      "execution_count": null,
      "outputs": [
        {
          "output_type": "stream",
          "name": "stdout",
          "text": [
            "Enter a string: Programming\n",
            "P\n"
          ]
        }
      ]
    },
    {
      "cell_type": "code",
      "source": [
        "from re import S\n",
        "# 5. Compress a string by replacing repeated characters with the character and count. Example: \"aaabbcc\" → \"a3b2c2\", If compressed string isn't shorter return orignal.\n",
        "\n",
        "x = input(\"Enter a string: \")\n",
        "\n",
        "if not x:\n",
        "    print(\"\")\n",
        "else:\n",
        "    compress = \"\"\n",
        "    count = 1\n",
        "    for i in range(1, len(x)):\n",
        "        if x[i] == x[i - 1]:\n",
        "            count += 1\n",
        "        else:\n",
        "            compress += x[i - 1] + str(count)\n",
        "            count = 1\n",
        "\n",
        "    compress += x[-1] + str(count)\n",
        "\n",
        "    if len(compress) < len(x):\n",
        "        print(\"compressed string:\", compress)\n",
        "    else:\n",
        "        print(\"no need to compress:\", x)\n"
      ],
      "metadata": {
        "colab": {
          "base_uri": "https://localhost:8080/"
        },
        "id": "aQ6IcqII6POG",
        "outputId": "6394b276-67fc-41f3-8bea-2aba77d0990f"
      },
      "execution_count": null,
      "outputs": [
        {
          "output_type": "stream",
          "name": "stdout",
          "text": [
            "Enter a string: aaaaaabbbbbbbbbbbbbcccccccccccccccc\n",
            "compressed string: a6b13c16\n"
          ]
        }
      ]
    },
    {
      "cell_type": "code",
      "source": [
        "# 6. Find the longest substring in a string thai is a palindrome (case-sensitive). Example: \"babad\" → \"bab\" (or\"aba\"), \"cbbd\" → \"bb\".\n",
        "\n",
        "s=input(\"Enter a string: \")\n",
        "x=s.replace(\" \",\"\").upper()\n",
        "n=len(x)\n",
        "\n",
        "longest=\"\"\n",
        "\n",
        "for i in range(n):\n",
        "  for j in range(1,n):\n",
        "    substr=x[i:j+1]\n",
        "    if substr == substr[::-1]:\n",
        "      if len(substr) > len(longest):\n",
        "        longest = substr\n",
        "print(\"Longest palindrome: \",longest)\n"
      ],
      "metadata": {
        "colab": {
          "base_uri": "https://localhost:8080/"
        },
        "id": "bJYK2Ak9A3p_",
        "outputId": "81199da6-8018-4865-8894-6b02197988a5"
      },
      "execution_count": null,
      "outputs": [
        {
          "output_type": "stream",
          "name": "stdout",
          "text": [
            "Enter a string: babad\n",
            "Longest palindrome:  BAB\n"
          ]
        }
      ]
    },
    {
      "cell_type": "code",
      "source": [
        "# 7. Gven a string containing only '(',').','{','}','[',']', check if the sequence is valid (properly nested and closed). Example: \"[{()}]\" → \"Valid\", \"(]\" → \"Invalid\".\n",
        "\n",
        "x=input(\"Enter a string: \")\n",
        "\n",
        "s=[]\n",
        "dic={')':'(', ']':'[','}':'{' }\n",
        "valid=True\n",
        "\n",
        "for i in x:\n",
        "  if i in '([{':\n",
        "    s.append(i)\n",
        "  elif i in ')]}':\n",
        "    if not s or s[-1] != dic[i]:\n",
        "      valid= False\n",
        "      break\n",
        "    s.pop()\n",
        "\n",
        "if s:\n",
        "  valid =False\n",
        "\n",
        "print(\"Valid\" if valid else \"Invalid\")"
      ],
      "metadata": {
        "colab": {
          "base_uri": "https://localhost:8080/"
        },
        "id": "PFwt7R8eDZz6",
        "outputId": "3582b5fe-5558-4c25-b03e-5255afcc72d8"
      },
      "execution_count": null,
      "outputs": [
        {
          "output_type": "stream",
          "name": "stdout",
          "text": [
            "Enter a string: [{()}]\n",
            "Valid\n"
          ]
        }
      ]
    },
    {
      "cell_type": "code",
      "source": [
        "# 8. Given a start word, end word, and a list of valid words, find the mininmum number of steps to transform the word to the end word by changing one letter at a time, where each intermediate word must be in the list. All words are same length, lowercase. Example: start\"hot\", end=\"cog\", wordlist=[\"hot\",\"dot\",\"dog\",log\",\"lot\",\"cog\"] → 5(hit → hot → dot → dog → cog), Return 0 if impossible.\n",
        "\n",
        "start=input(\"Enter start word: \")\n",
        "end=input(\"Enter end word: \")\n",
        "wordlist=input(\"Enter word list comma separated: \").split(',')\n",
        "\n",
        "if end not in wordlist:\n",
        "  print(0)\n",
        "else:\n",
        "    queue=[(start,1)]\n",
        "    visit=set1()\n",
        "\n",
        "    while queue:\n",
        "      current, steps = queue.pop(0)\n",
        "\n",
        "      for word in wordlist:\n",
        "         if word in visit:\n",
        "          continue\n",
        "\n",
        "         diff=0\n",
        "         for j in range(len(current)):\n",
        "           if current[j] != word[j]:\n",
        "             diff+=1\n",
        "\n",
        "         if diff==1:\n",
        "             if word==end:\n",
        "               print(steps + 1)\n",
        "               exit()\n",
        "             queue.append((word, steps + 1))\n",
        "             visit.add(word)\n",
        "    print(0)"
      ],
      "metadata": {
        "colab": {
          "base_uri": "https://localhost:8080/"
        },
        "id": "sKWTqp02ImzP",
        "outputId": "d0122bc8-28cf-4ba5-cf5a-b7f67cebc999"
      },
      "execution_count": null,
      "outputs": [
        {
          "output_type": "stream",
          "name": "stdout",
          "text": [
            "Enter start word: hit\n",
            "Enter end word: log\n",
            "Enter word list comma separated: \"hot\",\"dot\",\"dog\",log\",\"lot\",\"cog\"\n",
            "0\n"
          ]
        }
      ]
    },
    {
      "cell_type": "markdown",
      "source": [
        "# **Assignment-4**"
      ],
      "metadata": {
        "id": "8mHjEW8bgZg-"
      }
    },
    {
      "cell_type": "code",
      "source": [
        "# 1. Create a dictionary of 5 students with their names as keys and marks as values. Print all the keys and values.\n",
        "\n",
        "dic={'s1':'a','s2':'b','s3':'c','s4':'d','s5':'e'}\n",
        "dic.items()"
      ],
      "metadata": {
        "colab": {
          "base_uri": "https://localhost:8080/"
        },
        "id": "1I69cAypghYg",
        "outputId": "c24bab57-147e-47ba-d9f2-2bbf7ccd6535"
      },
      "execution_count": null,
      "outputs": [
        {
          "output_type": "execute_result",
          "data": {
            "text/plain": [
              "dict_items([('s1', 'a'), ('s2', 'b'), ('s3', 'c'), ('s4', 'd'), ('s5', 'e')])"
            ]
          },
          "metadata": {},
          "execution_count": 9
        }
      ]
    },
    {
      "cell_type": "code",
      "source": [
        "# 2.  Write a program to count the frequency of each character in a given string using a dictionary.\n",
        "\n",
        "x=input(\"Enter a string: \")\n",
        "x=x.lower()\n",
        "dic={}\n",
        "for i in x:\n",
        "  if i in dic:\n",
        "    dic[i]+=1\n",
        "  else:\n",
        "    dic[i]=1\n",
        "\n",
        "print(\"Frequency: \")\n",
        "for i,j in dic.items():\n",
        "  print(f\"{i} : {j}\")\n"
      ],
      "metadata": {
        "colab": {
          "base_uri": "https://localhost:8080/"
        },
        "id": "gwE7KNjyhFqH",
        "outputId": "d8779cf7-a37c-4337-8904-d8ea4cf604de"
      },
      "execution_count": null,
      "outputs": [
        {
          "output_type": "stream",
          "name": "stdout",
          "text": [
            "Enter a string: Hello world\n",
            "Frequency: \n",
            "h : 1\n",
            "e : 1\n",
            "l : 3\n",
            "o : 2\n",
            "  : 1\n",
            "w : 1\n",
            "r : 1\n",
            "d : 1\n"
          ]
        }
      ]
    },
    {
      "cell_type": "code",
      "source": [
        "# 3. Create a dictionary with names as keys and ages as values. Print the name(s) of the oldest person(s).\n",
        "\n",
        "dic ={'a':20,'b':22,'c':21, 'e':23,'f':22, 'g':24, 'h':24}\n",
        "oldest=max(dic.values())\n",
        "print(\"Oldest people are: \")\n",
        "for i,j in dic.items():\n",
        "  if j==oldest:\n",
        "    print(i)"
      ],
      "metadata": {
        "colab": {
          "base_uri": "https://localhost:8080/"
        },
        "id": "2UL44v00jDQD",
        "outputId": "f0bcfbda-ec3e-461c-b40d-38b8e1d08c13"
      },
      "execution_count": null,
      "outputs": [
        {
          "output_type": "stream",
          "name": "stdout",
          "text": [
            "Oldest people are: \n",
            "g\n",
            "h\n"
          ]
        }
      ]
    },
    {
      "cell_type": "code",
      "source": [
        "# 4. Merge two dictionaries and print the merged dictionary.\n",
        "\n",
        "dict1 ={'a':20,'b':22,'c':21, 'e':23,'f':22, 'g':24, 'h':24}\n",
        "dict2 ={'s1':'a','s2':'b','s3':'c','s4':'d','s5':'e'}\n",
        "\n",
        "print(\"dict1: \",dict1)\n",
        "print(\"dict2: \",dict2)\n",
        "\n",
        "dict1.update(dict2)\n",
        "print(\"After merge: \",dict1)"
      ],
      "metadata": {
        "colab": {
          "base_uri": "https://localhost:8080/"
        },
        "id": "eeR2wf3IkL7a",
        "outputId": "d31b0928-c542-419b-db89-653bc3c99e30"
      },
      "execution_count": null,
      "outputs": [
        {
          "output_type": "stream",
          "name": "stdout",
          "text": [
            "dict1:  {'a': 20, 'b': 22, 'c': 21, 'e': 23, 'f': 22, 'g': 24, 'h': 24}\n",
            "dict2:  {'s1': 'a', 's2': 'b', 's3': 'c', 's4': 'd', 's5': 'e'}\n",
            "After merge:  {'a': 20, 'b': 22, 'c': 21, 'e': 23, 'f': 22, 'g': 24, 'h': 24, 's1': 'a', 's2': 'b', 's3': 'c', 's4': 'd', 's5': 'e'}\n"
          ]
        }
      ]
    },
    {
      "cell_type": "code",
      "source": [
        "# 5. Create a dictionary where the keys are numbers between 1 and 10, and the values are their squares\n",
        "\n",
        "dic={}\n",
        "\n",
        "for i in range(1,11):\n",
        "  dic[i]=i*i\n",
        "\n",
        "print(dic)"
      ],
      "metadata": {
        "colab": {
          "base_uri": "https://localhost:8080/"
        },
        "id": "BJB2jAu3k5LX",
        "outputId": "2f88440d-9fbb-452c-9d2f-d830bf7e84cc"
      },
      "execution_count": null,
      "outputs": [
        {
          "output_type": "stream",
          "name": "stdout",
          "text": [
            "{1: 1, 2: 4, 3: 9, 4: 16, 5: 25, 6: 36, 7: 49, 8: 64, 9: 81, 10: 100}\n"
          ]
        }
      ]
    },
    {
      "cell_type": "code",
      "source": [
        "# 6. Write a program that inverts a dictionary (i.e., swaps keys and values). Assume all values are unique.\n",
        "\n",
        "dic={'s1':'a','s2':'b','s3':'c','s4':'d','s5':'e'}\n",
        "\n",
        "dict_i={}\n",
        "\n",
        "for key,value in dic.items():\n",
        "  dict_i[value]=key\n",
        "\n",
        "print(\"Orignal: \",dic)\n",
        "print(\"Inverted: \",dict_i)"
      ],
      "metadata": {
        "colab": {
          "base_uri": "https://localhost:8080/"
        },
        "id": "rM43I-YMlT9c",
        "outputId": "fdf28b3f-9a4b-4402-aa01-81c6ebe8cbbf"
      },
      "execution_count": null,
      "outputs": [
        {
          "output_type": "stream",
          "name": "stdout",
          "text": [
            "Orignal:  {'s1': 'a', 's2': 'b', 's3': 'c', 's4': 'd', 's5': 'e'}\n",
            "Inverted:  {'a': 's1', 'b': 's2', 'c': 's3', 'd': 's4', 'e': 's5'}\n"
          ]
        }
      ]
    },
    {
      "cell_type": "code",
      "source": [
        "# 7. Given a nested dictionary of students and their subject-wise marks, calculate and print the average marks for each student.\n",
        "\n",
        "students={\"A\":{\"maths\":85,\"science\":90,\"english\":80},\n",
        "          \"B\":{\"maths\":89,\"science\":69,\"english\":90},\n",
        "          \"C\":{\"maths\":60,\"science\":100,\"english\":100},\n",
        "          \"D\":{\"maths\":35,\"science\":90,\"english\":70},\n",
        "          \"E\":{\"maths\":99,\"science\":50,\"english\":90} }\n",
        "\n",
        "for name,subject in students.items():\n",
        "  total= sum(subject.values())\n",
        "  count= len(subject)\n",
        "  average= total/count\n",
        "  print(f\"{name}'s average marks: {average:.2f}\")\n"
      ],
      "metadata": {
        "id": "1ZW-p05hmVpr",
        "colab": {
          "base_uri": "https://localhost:8080/"
        },
        "outputId": "152b7d40-a281-4bd4-9f7e-170603525b5b"
      },
      "execution_count": null,
      "outputs": [
        {
          "output_type": "stream",
          "name": "stdout",
          "text": [
            "A's average marks: 85.00\n",
            "B's average marks: 82.67\n",
            "C's average marks: 86.67\n",
            "D's average marks: 65.00\n",
            "E's average marks: 79.67\n"
          ]
        }
      ]
    },
    {
      "cell_type": "code",
      "source": [
        "# 8.  Write a program to group words by their length from a list using a dictionary.\n",
        "\n",
        "x=input(\"Enter words separate by space(no comma): \")\n",
        "\n",
        "word=x.split()\n",
        "\n",
        "length={}\n",
        "\n",
        "for i in word:\n",
        "  l=len(i)\n",
        "  if l in length:\n",
        "    length[l].append(i)\n",
        "  else:\n",
        "    length[l]=[i]\n",
        "\n",
        "print(\"Words By Lenght: \")\n",
        "\n",
        "for x,y in length.items():\n",
        "  print(f\"Length {x}: {y}\")\n",
        "\n"
      ],
      "metadata": {
        "colab": {
          "base_uri": "https://localhost:8080/"
        },
        "id": "N61QBgjIOYbK",
        "outputId": "267257fe-5a82-45bf-dae9-cbde17b5d91d"
      },
      "execution_count": null,
      "outputs": [
        {
          "output_type": "stream",
          "name": "stdout",
          "text": [
            "Enter words separate by space(no comma): apple banana bread cake pine salad zebra umbrella kangaroo potato tomato lion camel rose orchid ostrich dinosaur\n",
            "Words By Lenght: \n",
            "Length 5: ['apple', 'bread', 'salad', 'zebra', 'camel']\n",
            "Length 6: ['banana', 'potato', 'tomato', 'orchid']\n",
            "Length 4: ['cake', 'pine', 'lion', 'rose']\n",
            "Length 8: ['umbrella', 'kangaroo', 'dinosaur']\n",
            "Length 7: ['ostrich']\n"
          ]
        }
      ]
    },
    {
      "cell_type": "code",
      "source": [
        "# 10. Create a program that takes a list of tuples (name, score) and builds a dictionary where each name is a key, and the value is a list of all their scores. Then calculate and print each person's average score.\n",
        "\n",
        "data=[(\"A\",85),\n",
        "      (\"B\",92),\n",
        "      (\"B\",89),\n",
        "      (\"A\",99),\n",
        "      (\"C\",100),\n",
        "      (\"C\",21)]\n",
        "\n",
        "dic={}\n",
        "\n",
        "for name, score in data:\n",
        "  if name in dic:\n",
        "    dic[name].append(score)\n",
        "  else:\n",
        "    dic[name]=[score]\n",
        "\n",
        "print(\"Average score: \")\n",
        "\n",
        "for name, score in dic.items():\n",
        "  avg=sum(score)/len(score)\n",
        "  print(f\"{name}: {avg:.2f}\")\n",
        "\n"
      ],
      "metadata": {
        "colab": {
          "base_uri": "https://localhost:8080/"
        },
        "id": "ZpHLKypSR6z8",
        "outputId": "77b95d2f-698f-411e-8b54-0df132d94356"
      },
      "execution_count": null,
      "outputs": [
        {
          "output_type": "stream",
          "name": "stdout",
          "text": [
            "Average score: \n",
            "A: 92.00\n",
            "B: 90.50\n",
            "C: 60.50\n"
          ]
        }
      ]
    },
    {
      "cell_type": "markdown",
      "source": [
        "# **Assignment-5 (Tuple & Set)**"
      ],
      "metadata": {
        "id": "7HMO_wm4kAFM"
      }
    },
    {
      "cell_type": "markdown",
      "source": [
        "**Tuple**"
      ],
      "metadata": {
        "id": "dUiVV9ch1ajh"
      }
    },
    {
      "cell_type": "code",
      "source": [
        "# 1. Write a Python program to create a tuple with different data types and print its type.\n",
        "\n",
        "t = (1,2,3,4,5,[5,6,7,8,9],'apple','cherry',{'monday':'day-1', 'tuesday':'day-2'})\n",
        "\n",
        "print(\"Tuple = \",tuple)\n",
        "print(type(tuple))"
      ],
      "metadata": {
        "colab": {
          "base_uri": "https://localhost:8080/"
        },
        "id": "lead4Sx9kIur",
        "outputId": "bf8a1e2e-33a0-4d84-e742-914e26817df7"
      },
      "execution_count": null,
      "outputs": [
        {
          "output_type": "stream",
          "name": "stdout",
          "text": [
            "Tuple =  (1, 2, 3, 4, 5, [5, 6, 7, 8, 9], 'apple', 'cherry', {'monday': 'day-1', 'tuesday': 'day-2'})\n",
            "<class 'tuple'>\n"
          ]
        }
      ]
    },
    {
      "cell_type": "code",
      "source": [
        "#  2. Given a tuple t = (10, 20, 30, 40, 50), write a program to access the second last element.\n",
        "\n",
        "t = (10, 20, 30, 40, 50, 60)\n",
        "\n",
        "print(t[-2])"
      ],
      "metadata": {
        "colab": {
          "base_uri": "https://localhost:8080/"
        },
        "id": "8ZF0MjXSzIN_",
        "outputId": "ff7fa462-fe58-42ff-9870-bbe7d0f99bdb"
      },
      "execution_count": null,
      "outputs": [
        {
          "output_type": "stream",
          "name": "stdout",
          "text": [
            "50\n"
          ]
        }
      ]
    },
    {
      "cell_type": "code",
      "source": [
        "# 3. Write a program to count the number of times a given element appears in a tuple.\n",
        "\n",
        "t = (1,2,3,3,5,6,6,7,8,9,7,6,5,55)\n",
        "\n",
        "x = int(input(\"Enter a number: \"))\n",
        "\n",
        "print(f\"Count of {x} is {tuple.count(x)}\")\n"
      ],
      "metadata": {
        "colab": {
          "base_uri": "https://localhost:8080/"
        },
        "id": "bEwfJxIfzjZ_",
        "outputId": "c7bec7b4-1dd6-4a78-b5fa-ec820eaeb9e7"
      },
      "execution_count": null,
      "outputs": [
        {
          "output_type": "stream",
          "name": "stdout",
          "text": [
            "Enter a number: 3\n",
            "Count of 3 is 2\n"
          ]
        }
      ]
    },
    {
      "cell_type": "code",
      "source": [
        "#  4. Write a program to convert a tuple of strings into a single string. Example: ('Python', 'is', 'fun') --> 'Python is fun'\n",
        "\n",
        "string = ('python', 'is', 'fun')\n",
        "print(\"Orignal: \",str)\n",
        "print(\"Joined as single string: \",' '.join(str))"
      ],
      "metadata": {
        "colab": {
          "base_uri": "https://localhost:8080/"
        },
        "id": "Lem8d4BS0ef6",
        "outputId": "7e6f2c65-60c2-453e-865e-c51257661b3b"
      },
      "execution_count": null,
      "outputs": [
        {
          "output_type": "stream",
          "name": "stdout",
          "text": [
            "Orignal:  ('python', 'is', 'fun')\n",
            "Joined as single string:  python is fun\n"
          ]
        }
      ]
    },
    {
      "cell_type": "code",
      "source": [
        "# 5. Write a Python program to find the index of an element in a tuple.\n",
        "\n",
        "t = (1,2,3,5,6,6,5,4,3,2,4,56,7,8)\n",
        "\n",
        "x = int(input(\"Enter a number: \"))\n",
        "\n",
        "i = t.index(x)\n",
        "\n",
        "print(f\"Index of {x} is {i}\")"
      ],
      "metadata": {
        "colab": {
          "base_uri": "https://localhost:8080/"
        },
        "id": "IwN1g55Y1S1F",
        "outputId": "162c7865-1bdf-4e28-816e-b80b5dbf272a"
      },
      "execution_count": null,
      "outputs": [
        {
          "output_type": "stream",
          "name": "stdout",
          "text": [
            "Enter a number: 6\n",
            "Index of 6 is 4\n"
          ]
        }
      ]
    },
    {
      "cell_type": "markdown",
      "source": [
        "**Set**"
      ],
      "metadata": {
        "id": "NEuCiGpE2SGc"
      }
    },
    {
      "cell_type": "code",
      "source": [
        "#  6. Write a Python program to create two sets and perform union, intersection, and difference operations.\n",
        "\n",
        "s1 = {1,2,3,4,5,6,7,8,9}\n",
        "s2 = {1,2,3,4,'a','b','c','d'}\n",
        "\n",
        "union = s1.union(s2)\n",
        "intesection = s1.intersection(s2)\n",
        "difference = s1.difference(s2)\n",
        "\n",
        "print(\"s1: \",s1)\n",
        "print(\"s2: \",s2)\n",
        "print(\"Union: \", union)\n",
        "print(\"Intersection: \",intesection)\n",
        "print(\"Difference: \",difference)"
      ],
      "metadata": {
        "colab": {
          "base_uri": "https://localhost:8080/"
        },
        "id": "MYJB-5JV2ZGx",
        "outputId": "95b83e08-daee-41b3-b97a-d07818e53f8b"
      },
      "execution_count": null,
      "outputs": [
        {
          "output_type": "stream",
          "name": "stdout",
          "text": [
            "s1:  {1, 2, 3, 4, 5, 6, 7, 8, 9}\n",
            "s2:  {1, 2, 3, 4, 'c', 'd', 'b', 'a'}\n",
            "Union:  {1, 2, 3, 4, 5, 6, 7, 8, 9, 'c', 'd', 'b', 'a'}\n",
            "Intersection:  {1, 2, 3, 4}\n",
            "Difference:  {5, 6, 7, 8, 9}\n"
          ]
        }
      ]
    },
    {
      "cell_type": "code",
      "source": [
        "#  7. Write a program to check if a given element is present in a set or not.\n",
        "\n",
        "s1 = {1,2,3,4,5,6,7,8,9,'apple','cherry','root'}\n",
        "\n",
        "x = int(input(\"Enter element to check: \"))\n",
        "\n",
        "y = x in s1\n",
        "\n",
        "print(y)"
      ],
      "metadata": {
        "colab": {
          "base_uri": "https://localhost:8080/"
        },
        "id": "mYzmKHPh3mqE",
        "outputId": "616a6e11-1062-4434-f27e-82d950408f56"
      },
      "execution_count": null,
      "outputs": [
        {
          "output_type": "stream",
          "name": "stdout",
          "text": [
            "Enter element to check: 4\n",
            "True\n"
          ]
        }
      ]
    },
    {
      "cell_type": "code",
      "source": [
        "#  8. Write a program to remove duplicate elements from a list using a set.\n",
        "\n",
        "lis = [1,2,2,3,4,5,6,6,7,76,6,5,5,5,5]\n",
        "\n",
        "x = set(lis)\n",
        "\n",
        "print(x)"
      ],
      "metadata": {
        "colab": {
          "base_uri": "https://localhost:8080/"
        },
        "id": "nxhedOWJ4b3O",
        "outputId": "d092f460-bc31-4cd9-c02e-1ce7d22fd941"
      },
      "execution_count": null,
      "outputs": [
        {
          "output_type": "stream",
          "name": "stdout",
          "text": [
            "{1, 2, 3, 4, 5, 6, 7, 76}\n"
          ]
        }
      ]
    },
    {
      "cell_type": "code",
      "source": [
        "# 9. Write a Python program to find the symmetric difference between two sets.\n",
        "\n",
        "s1 = {1,2,3,4,5,6,7,8,9}\n",
        "s2 = {1,2,3,4,'a','b','c','d'}\n",
        "\n",
        "x = s1.symmetric_difference(s2)\n",
        "print(\"s1: \",s1)\n",
        "print(\"s2: \",s2)\n",
        "print(\"Symmetric Difference: \",x)"
      ],
      "metadata": {
        "colab": {
          "base_uri": "https://localhost:8080/"
        },
        "id": "6hrZMYpN7Obt",
        "outputId": "7f12a38e-c994-4750-95fa-d30e01c0703d"
      },
      "execution_count": null,
      "outputs": [
        {
          "output_type": "stream",
          "name": "stdout",
          "text": [
            "s1:  {1, 2, 3, 4, 5, 6, 7, 8, 9}\n",
            "s2:  {1, 2, 3, 4, 'c', 'd', 'b', 'a'}\n",
            "Symmetric Difference:  {5, 'c', 'd', 6, 7, 8, 'b', 9, 'a'}\n"
          ]
        }
      ]
    },
    {
      "cell_type": "code",
      "source": [
        "#  10. Given a list of numbers, write a Python program to find all unique elements using sets.\n",
        "\n",
        "lis = [1,2,2,3,34,3,3,4,5,4,4,4,5,5,100]\n",
        "\n",
        "x = set(lis)\n",
        "y = list(x)\n",
        "print(\"Given list: \",lis)\n",
        "print(\"Unique items in list: \",sorted(y))"
      ],
      "metadata": {
        "colab": {
          "base_uri": "https://localhost:8080/"
        },
        "id": "4ZYJUFd77uTf",
        "outputId": "55dd58e2-04f9-44d1-85a5-0eea10bf7f34"
      },
      "execution_count": null,
      "outputs": [
        {
          "output_type": "stream",
          "name": "stdout",
          "text": [
            "Given list:  [1, 2, 2, 3, 34, 3, 3, 4, 5, 4, 4, 4, 5, 5, 100]\n",
            "Unique items in list:  [1, 2, 3, 4, 5, 34, 100]\n"
          ]
        }
      ]
    },
    {
      "cell_type": "markdown",
      "source": [
        "# **Assignment-6**"
      ],
      "metadata": {
        "id": "dNfuHJ1DPkT1"
      }
    },
    {
      "cell_type": "code",
      "source": [
        "#  1. Write a function to find the factorial of a number using recursion.\n",
        "\n",
        "def fact(n):\n",
        "  if n<0:\n",
        "    print(\"Error factorial cannot be negative\")\n",
        "  elif n==1 or n==0:\n",
        "    return 1\n",
        "  else:\n",
        "    return n * fact(n-1)\n",
        "\n",
        "x = int(input(\"Enter a number: \"))\n",
        "\n",
        "print(f\"Factorial of {x} is: {fact(x)}\")"
      ],
      "metadata": {
        "colab": {
          "base_uri": "https://localhost:8080/"
        },
        "id": "7H9FLeA0PtJu",
        "outputId": "538f45c1-7332-4055-bbcb-96041b23147c"
      },
      "execution_count": null,
      "outputs": [
        {
          "output_type": "stream",
          "name": "stdout",
          "text": [
            "Enter a number: 8\n",
            "Factorial of 8 is: 40320\n"
          ]
        }
      ]
    },
    {
      "cell_type": "code",
      "source": [
        "# 2. Write a function that checks whether a number is prime or not.\n",
        "\n",
        "def prime(n):\n",
        "  if n <= 1:\n",
        "    return False\n",
        "  for i in range(2, int(n**0.5)+1):\n",
        "    if n % i == 0:\n",
        "      return False\n",
        "  return True\n",
        "\n",
        "x = int(input(\"Enter a number: \"))\n",
        "\n",
        "if prime(x):\n",
        "  print(f\"{x} is a prime number\")\n",
        "else:\n",
        "  print(f\"{x} is not a prime number\")"
      ],
      "metadata": {
        "colab": {
          "base_uri": "https://localhost:8080/"
        },
        "id": "ztuaoh4NRjVT",
        "outputId": "2569b54e-e839-4013-ae50-13f210411aaf"
      },
      "execution_count": null,
      "outputs": [
        {
          "output_type": "stream",
          "name": "stdout",
          "text": [
            "Enter a number: 2\n",
            "2 is a prime number\n"
          ]
        }
      ]
    },
    {
      "cell_type": "code",
      "source": [
        "#  3. Create a function that takes a string as input and returns the number of vowels in it.\n",
        "\n",
        "def vowels(s):\n",
        "  v = \"aeiouAEIOU\"\n",
        "  count = 0\n",
        "  for char in s:\n",
        "    if char in v:\n",
        "      count += 1\n",
        "  return count\n",
        "\n",
        "x = input(\"Enter a string: \")\n",
        "\n",
        "print(f\"Number of vowels in {x} is: {vowels(x)}\")"
      ],
      "metadata": {
        "colab": {
          "base_uri": "https://localhost:8080/"
        },
        "id": "AY-j9CHaTDkG",
        "outputId": "599460ba-3a23-466f-f931-222f621a07ae"
      },
      "execution_count": null,
      "outputs": [
        {
          "output_type": "stream",
          "name": "stdout",
          "text": [
            "Enter a string: Hello World\n",
            "Number of vowels in Hello World is: 3\n"
          ]
        }
      ]
    },
    {
      "cell_type": "code",
      "source": [
        "#  4. Write a function that accepts a list of numbers and returns the maximum and minimum values."
      ],
      "metadata": {
        "id": "PHtQyFg1YkkC"
      },
      "execution_count": null,
      "outputs": []
    },
    {
      "cell_type": "code",
      "source": [
        "#  5. Write a Python function to calculate the nth Fibonacci number using recursion."
      ],
      "metadata": {
        "id": "f8vvAX6oYotN"
      },
      "execution_count": null,
      "outputs": []
    },
    {
      "cell_type": "code",
      "source": [
        "#  6. Create a function that accepts two numbers and returns their greatest common divisor (GCD)."
      ],
      "metadata": {
        "id": "KD2R5pD3YsMp"
      },
      "execution_count": null,
      "outputs": []
    },
    {
      "cell_type": "code",
      "source": [
        "#  7. Write a function that takes a list and returns a new list with only unique elements."
      ],
      "metadata": {
        "id": "EOrOMvACYyzd"
      },
      "execution_count": null,
      "outputs": []
    },
    {
      "cell_type": "code",
      "source": [
        "#  8. Write a function to count the frequency of each word in a given string."
      ],
      "metadata": {
        "id": "Apf-UlW6Y2YC"
      },
      "execution_count": null,
      "outputs": []
    },
    {
      "cell_type": "code",
      "source": [
        "#  9. Write a function that takes a number and returns True if it is a palindrome, otherwise False."
      ],
      "metadata": {
        "id": "ipQiUifqY7U4"
      },
      "execution_count": null,
      "outputs": []
    },
    {
      "cell_type": "code",
      "source": [
        "# 10. Create a function that takes a temperature in Celsius and returns it in Fahrenheit."
      ],
      "metadata": {
        "id": "MACvTza6Y8lk"
      },
      "execution_count": null,
      "outputs": []
    }
  ]
}