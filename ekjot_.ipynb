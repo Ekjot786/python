{
  "cells": [
    {
      "cell_type": "markdown",
      "metadata": {
        "id": "view-in-github",
        "colab_type": "text"
      },
      "source": [
        "<a href=\"https://colab.research.google.com/github/Ekjot786/python/blob/main/ekjot_.ipynb\" target=\"_parent\"><img src=\"https://colab.research.google.com/assets/colab-badge.svg\" alt=\"Open In Colab\"/></a>"
      ]
    },
    {
      "cell_type": "markdown",
      "metadata": {
        "id": "3cKuPR5rM-kq"
      },
      "source": [
        "assi"
      ]
    },
    {
      "cell_type": "code",
      "execution_count": null,
      "metadata": {
        "id": "fLZWTEIgM84R"
      },
      "outputs": [],
      "source": [
        "ssignment 1"
      ]
    },
    {
      "cell_type": "markdown",
      "metadata": {
        "id": "AOv5QsXiM8nE"
      },
      "source": []
    },
    {
      "cell_type": "code",
      "execution_count": null,
      "metadata": {
        "colab": {
          "base_uri": "https://localhost:8080/"
        },
        "id": "d-IqLnqSqEEi",
        "outputId": "8ad3ded9-fd28-4962-8a13-3b0aa283d80f"
      },
      "outputs": [
        {
          "name": "stdout",
          "output_type": "stream",
          "text": [
            "ekjot 21 AIML\n"
          ]
        }
      ],
      "source": [
        "#Create variables to store your name (string), age (integer), and course (string). Print all of them\n",
        "#using a single print() statement.\n",
        "name=\"ekjot\"\n",
        "age=21\n",
        "course=\"AIML\"\n",
        "print(name,age,course)"
      ]
    },
    {
      "cell_type": "code",
      "execution_count": null,
      "metadata": {
        "colab": {
          "base_uri": "https://localhost:8080/"
        },
        "id": "7jpMVydAqB-L",
        "outputId": "f60e1d53-d04b-407d-df4d-f0149e75e88d"
      },
      "outputs": [
        {
          "name": "stdout",
          "output_type": "stream",
          "text": [
            "9\n"
          ]
        }
      ],
      "source": [
        "#Write a program to swap two numbers without using a third variable. Example: a = 4, b = 9.\n",
        "x=4\n",
        "y=9\n",
        "x,y=y,x\n",
        "print(x)"
      ]
    },
    {
      "cell_type": "code",
      "execution_count": null,
      "metadata": {
        "colab": {
          "base_uri": "https://localhost:8080/"
        },
        "id": "uoyjuYZErxcd",
        "outputId": "56fa401e-3168-4075-818f-8f9cab7fc16f"
      },
      "outputs": [
        {
          "name": "stdout",
          "output_type": "stream",
          "text": [
            "100\n",
            "-20\n",
            "2400\n",
            "0.6666666666666666\n",
            "40\n"
          ]
        }
      ],
      "source": [
        "#Arithmetic operations\n",
        "x=40\n",
        "y=60\n",
        "print(x+y)\n",
        "print(x-y)\n",
        "print(x*y)\n",
        "print(x/y)\n",
        "print(x%y)\n"
      ]
    },
    {
      "cell_type": "code",
      "execution_count": null,
      "metadata": {
        "colab": {
          "base_uri": "https://localhost:8080/"
        },
        "id": "AaLL2VLuVm9W",
        "outputId": "e367571a-44ef-4ec8-a6bc-10246202e019"
      },
      "outputs": [
        {
          "name": "stdout",
          "output_type": "stream",
          "text": [
            "320\n",
            "64.0\n"
          ]
        }
      ],
      "source": [
        "#Take marks of 5 subjects and calculate the total and percentage\n",
        "x=50\n",
        "y=90\n",
        "z=60\n",
        "q=80\n",
        "v=40\n",
        "total=x+y+z+q+v\n",
        "percentage=(total/500)*100\n",
        "print(total)\n",
        "print(percentage)"
      ]
    },
    {
      "cell_type": "code",
      "execution_count": null,
      "metadata": {
        "colab": {
          "base_uri": "https://localhost:8080/"
        },
        "id": "Mv8LptqkWJL0",
        "outputId": "c6fa8046-8871-48a7-b3c9-604fb9620b1d"
      },
      "outputs": [
        {
          "name": "stdout",
          "output_type": "stream",
          "text": [
            "50\n",
            "55\n",
            "55\n",
            "55\n"
          ]
        }
      ],
      "source": [
        "#Use compound assignment operators\n",
        "x==10\n",
        "print(x)\n",
        "x+=5\n",
        "print(x)\n",
        "x<=9\n",
        "print(x)\n",
        "x>=6\n",
        "print(x)"
      ]
    },
    {
      "cell_type": "code",
      "execution_count": null,
      "metadata": {
        "colab": {
          "base_uri": "https://localhost:8080/"
        },
        "id": "cjl1YpZqYjHO",
        "outputId": "e27f437f-838a-4aa5-96a8-596b59cd29ff"
      },
      "outputs": [
        {
          "name": "stdout",
          "output_type": "stream",
          "text": [
            "True\n",
            "False\n"
          ]
        }
      ],
      "source": [
        "#Logical operator challenge\n",
        "is_raining = True\n",
        "have_umbrella = False\n",
        "print(is_raining or have_umbrella)\n",
        "print(is_raining and have_umbrella)"
      ]
    },
    {
      "cell_type": "code",
      "execution_count": null,
      "metadata": {
        "colab": {
          "base_uri": "https://localhost:8080/"
        },
        "id": "ftTzWFH5Z59L",
        "outputId": "fcacd1f7-d3eb-412c-938b-3afc45a9e19e"
      },
      "outputs": [
        {
          "name": "stdout",
          "output_type": "stream",
          "text": [
            "False\n",
            "False\n"
          ]
        }
      ],
      "source": [
        "#8. Identity operator\n",
        "list1=[1,2,3]\n",
        "list2=[3,2,1]\n",
        "print(list1==list2)\n",
        "print(list1 is list2)"
      ]
    },
    {
      "cell_type": "code",
      "execution_count": null,
      "metadata": {
        "colab": {
          "base_uri": "https://localhost:8080/"
        },
        "id": "mJVs-fgYdqVJ",
        "outputId": "75c289e2-4b3e-448c-9f46-4cb409fef226"
      },
      "outputs": [
        {
          "name": "stdout",
          "output_type": "stream",
          "text": [
            "9\n",
            "61\n",
            "52\n"
          ]
        }
      ],
      "source": [
        "# bitwise poeration\n",
        "a=25\n",
        "b=45\n",
        "print(a&b)  # AND\n",
        "print(a|b)  #OR\n",
        "print(a^b)  #NOR"
      ]
    },
    {
      "cell_type": "code",
      "execution_count": null,
      "metadata": {
        "colab": {
          "base_uri": "https://localhost:8080/"
        },
        "id": "z7qBqDwLdqUH",
        "outputId": "a28e9d94-4300-49e1-f269-ed1294893f1a"
      },
      "outputs": [
        {
          "name": "stdout",
          "output_type": "stream",
          "text": [
            "Type of int_num: <class 'int'>\n",
            "Type of float_num: <class 'float'>\n",
            "Sum as integer: 9.5\n"
          ]
        }
      ],
      "source": [
        "# Variable types and typecasting\n",
        "a = 5\n",
        "b =4.5\n",
        "\n",
        "print(\"Type of int_num:\", type(a))\n",
        "print(\"Type of float_num:\", type(b))\n",
        "\n",
        "sum  = a+b\n",
        "print(\"Sum as integer:\",(sum))\n",
        "\n"
      ]
    },
    {
      "cell_type": "markdown",
      "metadata": {
        "id": "ZW2-2NGzZ87J"
      },
      "source": [
        "Assignment no. 2\n"
      ]
    },
    {
      "cell_type": "code",
      "execution_count": null,
      "metadata": {
        "colab": {
          "base_uri": "https://localhost:8080/"
        },
        "id": "vecWOGqwaE-y",
        "outputId": "730dd1bb-4f66-46f8-9bdb-e5104b8332d9"
      },
      "outputs": [
        {
          "name": "stdout",
          "output_type": "stream",
          "text": [
            "1\n",
            "2\n",
            "3\n",
            "4\n",
            "5\n",
            "6\n",
            "7\n",
            "8\n"
          ]
        }
      ],
      "source": [
        "#to print number 1 to 10 but stop the loop when number reaches 9\n",
        "for i in range(1,11):\n",
        "  if i==9:\n",
        "    break\n",
        "  print(i)"
      ]
    },
    {
      "cell_type": "code",
      "execution_count": null,
      "metadata": {
        "colab": {
          "base_uri": "https://localhost:8080/"
        },
        "id": "FFyzHYs4aFFV",
        "outputId": "32fd3357-0ebd-43a6-d209-2bb1f778e3af"
      },
      "outputs": [
        {
          "name": "stdout",
          "output_type": "stream",
          "text": [
            "enter a number12\n",
            "12\n"
          ]
        }
      ],
      "source": [
        "#to print +ve numbers and show -ve no. when user inputs -ve no\n",
        "number= int(input(\"enter a number\"))\n",
        "if number>0:\n",
        "  print(number)\n",
        "else:\n",
        "  print(-number)"
      ]
    },
    {
      "cell_type": "code",
      "execution_count": null,
      "metadata": {
        "colab": {
          "base_uri": "https://localhost:8080/"
        },
        "id": "5wGxbQYlcRvz",
        "outputId": "35b9d38f-d40e-414e-a80d-5e442fd8b84e"
      },
      "outputs": [
        {
          "name": "stdout",
          "output_type": "stream",
          "text": [
            "The first even number is: 12\n"
          ]
        }
      ],
      "source": [
        "#to find first even no. in list using loop and break\n",
        "list1=[12,2,4,32,25,35,45,56,5,57]\n",
        "for l in list1:\n",
        "    if l % 2 == 0:\n",
        "        print(\"The first even number is:\", l)\n",
        "        break"
      ]
    },
    {
      "cell_type": "code",
      "execution_count": null,
      "metadata": {
        "colab": {
          "base_uri": "https://localhost:8080/"
        },
        "id": "RlbYu6obeSwo",
        "outputId": "75fe7a95-182b-4669-b84c-988d20d8d94e"
      },
      "outputs": [
        {
          "name": "stdout",
          "output_type": "stream",
          "text": [
            "total sum: 38\n",
            "False\n"
          ]
        }
      ],
      "source": [
        "#keep adding number onwards until total sum exceeds 35 print last sum nd digit\n",
        "a=[12,3,13,4,1,5,3,6,7,8]\n",
        "total=0\n",
        "for i in a:\n",
        "  total=total+i\n",
        "  if total>35:\n",
        "    print(\"total sum:\",total)\n",
        "    print(\"last digit added:\" in a)\n",
        "    break"
      ]
    },
    {
      "cell_type": "code",
      "execution_count": null,
      "metadata": {
        "colab": {
          "base_uri": "https://localhost:8080/"
        },
        "id": "0guQ6-KugFRT",
        "outputId": "86205b72-8d57-45c2-d507-034f0b5c64eb"
      },
      "outputs": [
        {
          "name": "stdout",
          "output_type": "stream",
          "text": [
            "Enter the password:admin123\n",
            "password is correct:\n"
          ]
        }
      ],
      "source": [
        "#keep asking the user to guess the paassword until they guess\n",
        "#admin123 use while nd break\n",
        "while True:\n",
        "  guessed_password= input(\"Enter the password:\")\n",
        "  if guessed_password == \"admin123\":\n",
        "    print(\"password is correct:\")\n",
        "    break\n",
        "  else:\n",
        "    print(\"wrong password\")"
      ]
    },
    {
      "cell_type": "code",
      "execution_count": null,
      "metadata": {
        "colab": {
          "base_uri": "https://localhost:8080/"
        },
        "id": "87ZnvHCzfIDz",
        "outputId": "20167fe6-9af3-451f-ea87-9e2d0a612799"
      },
      "outputs": [
        {
          "name": "stdout",
          "output_type": "stream",
          "text": [
            "enter the number234\n",
            "2\n",
            "3\n",
            "4\n"
          ]
        }
      ],
      "source": [
        "#give a no. print each digit until a zero is found\n",
        "number=input(\"enter the number\")\n",
        "for digit in number:\n",
        "  if digit=='0':\n",
        "      break\n",
        "  print(digit)"
      ]
    },
    {
      "cell_type": "code",
      "execution_count": null,
      "metadata": {
        "colab": {
          "base_uri": "https://localhost:8080/"
        },
        "id": "47fd05d3",
        "outputId": "67becd4e-d6a0-4962-d13c-92e2be18538d"
      },
      "outputs": [
        {
          "name": "stdout",
          "output_type": "stream",
          "text": [
            "7\n",
            "14\n",
            "21\n",
            "28\n",
            "35\n",
            "42\n",
            "49\n",
            "56\n",
            "63\n",
            "70\n"
          ]
        }
      ],
      "source": [
        "# Print the first 10 multiples of 7\n",
        "for i in range(1, 11):\n",
        "  print(i * 7)"
      ]
    },
    {
      "cell_type": "markdown",
      "metadata": {
        "id": "WOsvFWF9iJZS"
      },
      "source": [
        "assignment 3"
      ]
    },
    {
      "cell_type": "code",
      "execution_count": null,
      "metadata": {
        "colab": {
          "base_uri": "https://localhost:8080/"
        },
        "id": "hLyiBii4iMgy",
        "outputId": "9a631216-4f01-4305-d184-278516d09b0c"
      },
      "outputs": [
        {
          "name": "stdout",
          "output_type": "stream",
          "text": [
            "Enter a sentence: 21\n",
            "Reversed sentence: 21\n"
          ]
        }
      ],
      "source": [
        "#Take a sentence and reverse the order of its words. Example: \"I love Python\" → \"Python love I\"\n",
        "x= input(\"Enter a sentence: \")\n",
        "list1= x.split()\n",
        "list2 =list1[::-1]\n",
        "x = ' '.join(list2)\n",
        "\n",
        "print(\"Reversed sentence:\",x)\n",
        "\n"
      ]
    },
    {
      "cell_type": "code",
      "execution_count": null,
      "metadata": {
        "colab": {
          "base_uri": "https://localhost:8080/"
        },
        "id": "zJ5clQEhkaiU",
        "outputId": "f1f58337-4032-4aba-bae9-80db0836bc0a"
      },
      "outputs": [
        {
          "name": "stdout",
          "output_type": "stream",
          "text": [
            "Enter a string: swiss\n",
            "4(s,w,s,s)\n"
          ]
        }
      ],
      "source": [
        "# 2. Given a string of consonants (non-vowels, ignoring case). Example \"Hello World\" → 7(H,l,l,W,r,l,d).\n",
        "\n",
        "x=input(\"Enter a string: \")\n",
        "vowels='aeiouAEIOU'\n",
        "consonants=[ i for i in x if i.isalpha() and i not in vowels ]\n",
        "count=len(consonants)\n",
        "print(f\"{count}({','.join(consonants)})\")"
      ]
    },
    {
      "cell_type": "code",
      "execution_count": null,
      "metadata": {
        "colab": {
          "base_uri": "https://localhost:8080/"
        },
        "id": "kBOoi2GckiV1",
        "outputId": "a73da9da-e43f-4011-a60b-a86c1bb4f5e1"
      },
      "outputs": [
        {
          "name": "stdout",
          "output_type": "stream",
          "text": [
            "Enter first string: anagram\n",
            "Enter second string: jot\n",
            "Not Anagram\n"
          ]
        }
      ],
      "source": [
        "# 3. Check if two strings are anagrams (same characters, same frequency, ignoring case). Example: \"Listen\", \"Silent\" → \"Anagram\", \"Hello\" \"world\" → \"Not Anagram\".\n",
        "\n",
        "x=input(\"Enter first string: \")\n",
        "y=input(\"Enter second string: \")\n",
        "\n",
        "s1=x.replace(\" \",\"\").upper()\n",
        "s2=y.replace(\" \",\"\").upper()\n",
        "\n",
        "if sorted(s1) == sorted(s2):\n",
        "  print(\"Anagram\")\n",
        "else:\n",
        "  print(\"Not Anagram\")\n"
      ]
    },
    {
      "cell_type": "code",
      "execution_count": null,
      "metadata": {
        "colab": {
          "base_uri": "https://localhost:8080/"
        },
        "id": "ZzmsxCASlExq",
        "outputId": "a9047a28-239c-4e4d-c042-ebe2a636c47e"
      },
      "outputs": [
        {
          "name": "stdout",
          "output_type": "stream",
          "text": [
            "Enter first string: ekjot\n",
            "Enter second string: anagram\n",
            "Not Anagram\n"
          ]
        }
      ],
      "source": [
        "# 3. Check if two strings are anagrams (same characters, same frequency, ignoring case). Example: \"Listen\", \"Silent\" → \"Anagram\", \"Hello\" \"world\" → \"Not Anagram\".\n",
        "\n",
        "x=input(\"Enter first string: \")\n",
        "y=input(\"Enter second string: \")\n",
        "\n",
        "s1=x.replace(\" \",\"\").upper()\n",
        "s2=y.replace(\" \",\"\").upper()\n",
        "\n",
        "if sorted(s1) == sorted(s2):\n",
        "  print(\"Anagram\")\n",
        "else:\n",
        "  print(\"Not Anagram\")\n"
      ]
    },
    {
      "cell_type": "code",
      "execution_count": null,
      "metadata": {
        "colab": {
          "base_uri": "https://localhost:8080/"
        },
        "id": "LHzSN_HGlU6u",
        "outputId": "4ef15de9-f6c7-43b7-bcfc-dee84cd51a38"
      },
      "outputs": [
        {
          "name": "stdout",
          "output_type": "stream",
          "text": [
            "Enter a string:                     aaabbbccc\n",
            "compressed string:  20a3b3c3\n"
          ]
        }
      ],
      "source": [
        "# 5. Compress a string by replacing repeated characters with the character and count. Example: \"aaabbcc\" → \"a3b2c2\", If compressed string isn't shorter return orignal.\n",
        "\n",
        "x = input(\"Enter a string: \")\n",
        "\n",
        "if not x:\n",
        "    print(\"\")\n",
        "else:\n",
        "    compress = \"\"\n",
        "    count = 1\n",
        "    for i in range(1, len(x)):\n",
        "        if x[i] == x[i - 1]:\n",
        "            count += 1\n",
        "        else:\n",
        "            compress += x[i - 1] + str(count)\n",
        "            count = 1\n",
        "\n",
        "    compress += x[-1] + str(count)\n",
        "\n",
        "    if len(compress) < len(x):\n",
        "        print(\"compressed string:\", compress)\n",
        "    else:\n",
        "        print(\"no need to compress:\", x)\n"
      ]
    },
    {
      "cell_type": "code",
      "execution_count": null,
      "metadata": {
        "colab": {
          "base_uri": "https://localhost:8080/"
        },
        "id": "ojbPVgyRllvK",
        "outputId": "b0bad0cb-21dc-4bab-de0a-6917f94be47c"
      },
      "outputs": [
        {
          "name": "stdout",
          "output_type": "stream",
          "text": [
            "Enter a string: aabbccc\n",
            "Longest palindrome:  CCC\n"
          ]
        }
      ],
      "source": [
        "# 6. Find the longest substring in a string thai is a palindrome (case-sensitive). Example: \"babad\" → \"bab\" (or\"aba\"), \"cbbd\" → \"bb\".\n",
        "\n",
        "s=input(\"Enter a string: \")\n",
        "x=s.replace(\" \",\"\").upper()\n",
        "n=len(x)\n",
        "\n",
        "longest=\"\"\n",
        "\n",
        "for i in range(n):\n",
        "  for j in range(1,n):\n",
        "    substr=x[i:j+1]\n",
        "    if substr == substr[::-1]:\n",
        "      if len(substr) > len(longest):\n",
        "        longest = substr\n",
        "print(\"Longest palindrome: \",longest)"
      ]
    },
    {
      "cell_type": "code",
      "execution_count": null,
      "metadata": {
        "colab": {
          "base_uri": "https://localhost:8080/"
        },
        "id": "RjO0vDB7lwF1",
        "outputId": "0b069534-9877-4733-de4c-0f27468edc04"
      },
      "outputs": [
        {
          "name": "stdout",
          "output_type": "stream",
          "text": [
            "Enter a string: 798\n",
            "Valid\n"
          ]
        }
      ],
      "source": [
        "# 7. Gven a string containing only '(',').','{','}','[',']', check if the sequence is valid (properly nested and closed). Example: \"[{()}]\" → \"Valid\", \"(]\" → \"Invalid\".\n",
        "\n",
        "x=input(\"Enter a string: \")\n",
        "s=[]\n",
        "dict={')':'(', ']':'[','}':'{' }\n",
        "valid=True\n",
        "\n",
        "for i in x:\n",
        "  if i in '([{':\n",
        "    s.append(i)\n",
        "  elif i in ')]}':\n",
        "    if not s or s[-1] != dict[i]:\n",
        "      valid= False\n",
        "      break\n",
        "    s.pop()\n",
        "\n",
        "if s:\n",
        "  valid =False\n",
        "\n",
        "print(\"Valid\" if valid else \"Invalid\")"
      ]
    },
    {
      "cell_type": "code",
      "execution_count": null,
      "metadata": {
        "colab": {
          "base_uri": "https://localhost:8080/"
        },
        "id": "UEu976RDl4D4",
        "outputId": "8fd6fcdf-2fd5-43a5-d8d6-ca42c557f775"
      },
      "outputs": [
        {
          "name": "stdout",
          "output_type": "stream",
          "text": [
            "5\n"
          ]
        }
      ],
      "source": [
        "# 8. Given a start word, end word, and a list of valid words, find the mininmum number of steps to transform the word to the end word\n",
        "#by changing one letter at a time, where each intermediate word must be in the list. All words are same length, lowercase.\n",
        "# Example: start\"hot\", end=\"cog\", wordlist=[\"hot\",\"dot\",\"dog\",log\",\"lot\",\"cog\"] → 5(hit → hot → dot → dog → cog), Return 0 if impossible.\n",
        "\n",
        "from collections import deque\n",
        "start = \"hit\"\n",
        "end = \"cog\"\n",
        "wordList = [\"hot\", \"dot\", \"dog\", \"lot\", \"log\", \"cog\"]\n",
        "wordSet = set(wordList)\n",
        "queue= deque([(start, 1)])\n",
        "while queue:\n",
        "  word, steps = queue.popleft()\n",
        "  if word == end:\n",
        "       print(steps)\n",
        "       break\n",
        "  for i in range(len(word)):\n",
        "       for c in 'abcdefghijklmnopqrstuvwxyz':\n",
        "           next_word = word[:i] + c + word[i+1:]\n",
        "           if next_word in wordSet:\n",
        "               wordSet.remove(next_word)\n",
        "               queue.append((next_word, steps + 1))\n",
        "else:\n",
        "   print(0)\n"
      ]
    },
    {
      "cell_type": "markdown",
      "metadata": {
        "id": "X43zhs89l8AK"
      },
      "source": [
        "assignment 4\n"
      ]
    },
    {
      "cell_type": "code",
      "execution_count": null,
      "metadata": {
        "colab": {
          "base_uri": "https://localhost:8080/"
        },
        "id": "c0SjAMmSl-QI",
        "outputId": "3ea8990b-063b-44c2-daf4-b92a89f1cd23"
      },
      "outputs": [
        {
          "name": "stdout",
          "output_type": "stream",
          "text": [
            "{'Rohan': 78, 'Harman': 75, 'Aish': 67, 'ekjot': 84, 'Pia': 79}\n"
          ]
        }
      ],
      "source": [
        "#1 Create a dictionary of 5 students with their names as keys and marks as values. Print all the keys and values.\n",
        "my_dict= {\"Rohan\":78,\"Harman\":75,\"Aish\": 67,\"ekjot\":84,\"Pia\":79}\n",
        "print(my_dict)"
      ]
    },
    {
      "cell_type": "code",
      "execution_count": null,
      "metadata": {
        "colab": {
          "base_uri": "https://localhost:8080/"
        },
        "id": "SBgy4ROy1iE6",
        "outputId": "5aa57705-0b81-4531-9288-fecc8e514fd9"
      },
      "outputs": [
        {
          "name": "stdout",
          "output_type": "stream",
          "text": [
            "{'a': 1, 'b': 6, 'c': 10, 'd': 4, 'e': 11, 'f': 16, 'g': 5, 'h': 9}\n"
          ]
        }
      ],
      "source": [
        "#4 Merge two dictionaries and print the merged dictionary.\n",
        "dict1= {'a':1,'b':6,'c':10,'d':4}\n",
        "dict2=  {'e':11,'f':16,'g':5,'h':9}\n",
        "dict3= dict1|dict2\n",
        "print(dict3)"
      ]
    },
    {
      "cell_type": "code",
      "execution_count": null,
      "metadata": {
        "colab": {
          "base_uri": "https://localhost:8080/"
        },
        "id": "12PVNOYb1hpL",
        "outputId": "b08a0cbc-eb34-4029-8ba6-f19d23e03059"
      },
      "outputs": [
        {
          "name": "stdout",
          "output_type": "stream",
          "text": [
            "{1: 1, 2: 4, 3: 9, 4: 16, 5: 25, 6: 36, 7: 49, 8: 64, 9: 81, 10: 100}\n"
          ]
        }
      ],
      "source": [
        "\n",
        "#5 Create a dictionary where the keys are numbers between 1 and 10, and the values are their squares\n",
        "sq={num:num**2 for num in range(1,11)}\n",
        "print(sq)"
      ]
    },
    {
      "cell_type": "code",
      "execution_count": null,
      "metadata": {
        "colab": {
          "base_uri": "https://localhost:8080/"
        },
        "id": "nOyTgtXI2JAc",
        "outputId": "bd0e5e45-3543-4dbe-cf24-67c4440e9358"
      },
      "outputs": [
        {
          "name": "stdout",
          "output_type": "stream",
          "text": [
            "{1: 'a', 6: 'b', 10: 'c', 4: 'd', 9: 'e'}\n"
          ]
        }
      ],
      "source": [
        "#6 Write a program that inverts a dictionary (i.e., swaps keys and values). Assume all values are unique.\n",
        "dict={'a':1,'b':6,'c':10,'d':4,'e':9}\n",
        "inverted_dict={value: keys for keys, value in dict.items() }\n",
        "print(inverted_dict)"
      ]
    },
    {
      "cell_type": "code",
      "execution_count": null,
      "metadata": {
        "colab": {
          "base_uri": "https://localhost:8080/"
        },
        "id": "ialOOAc22OAM",
        "outputId": "98b63c4c-5f40-49d9-9ffc-bcb9a2bdef8b"
      },
      "outputs": [
        {
          "name": "stdout",
          "output_type": "stream",
          "text": [
            "{'h': 1, 'e': 1, 'l': 3, 'o': 2, 'w': 1, 'r': 1, 'd': 1}\n"
          ]
        }
      ],
      "source": [
        "string= \"hello world\"\n",
        "freq={}\n",
        "\n",
        "for char in string:\n",
        "    if char!= \" \":\n",
        "        freq[char]= freq.get(char,0)+1\n",
        "print(freq)"
      ]
    },
    {
      "cell_type": "code",
      "execution_count": null,
      "metadata": {
        "colab": {
          "base_uri": "https://localhost:8080/"
        },
        "id": "x-XJtMpe2S8w",
        "outputId": "b4364ba0-5fb8-438d-bb5b-d8a283cf902c"
      },
      "outputs": [
        {
          "name": "stdout",
          "output_type": "stream",
          "text": [
            "student1  average is 79.25\n",
            "student2  average is 72.0\n",
            "student3  average is 77.75\n",
            "student4  average is 72.25\n",
            "student5  average is 59.25\n"
          ]
        }
      ],
      "source": [
        "#7. Given a nested dictionary of students and their subject-wise marks, calculate and print the average marks for each student.\n",
        "students={ \"student1\":{'phy':78, 'chem':65,'maths':89,'english': 85},\n",
        "         \"student2\":{'phy':79, 'chem':67,'maths':76,'english': 66},\n",
        "         \"student3\":{'phy':74, 'chem':55,'maths':84,'english': 98},\n",
        "         \"student4\":{'phy':81, 'chem':45,'maths':88,'english': 75},\n",
        "         \"student5\":{'phy':38, 'chem':35,'maths':69,'english': 95},\n",
        "}\n",
        "\n",
        "for name, subject in students.items():\n",
        "    total_marks = sum(subject.values())\n",
        "    avg= total_marks /len(subject)\n",
        "    print(name ,\" average is\",avg)"
      ]
    },
    {
      "cell_type": "code",
      "execution_count": null,
      "metadata": {
        "colab": {
          "base_uri": "https://localhost:8080/"
        },
        "id": "yhVTdbYb2YAr",
        "outputId": "cea86df4-c9a6-45e7-a388-9c2150f4a7b1"
      },
      "outputs": [
        {
          "name": "stdout",
          "output_type": "stream",
          "text": [
            "{3: ['red'], 4: ['blue', 'pink'], 5: ['black', 'green']}\n"
          ]
        }
      ],
      "source": [
        "#8. Write a program to group words by their length from a list using a dictionary.\n",
        "list=['red', 'blue','black','pink','green']\n",
        "group={}\n",
        "for word in list:\n",
        "    l=len(word)\n",
        "    group.setdefault(l,[]).append(word)\n",
        "\n",
        "\n",
        "print(group)\n",
        "\n"
      ]
    },
    {
      "cell_type": "code",
      "execution_count": null,
      "metadata": {
        "colab": {
          "base_uri": "https://localhost:8080/"
        },
        "id": "7jfPEUHE2cgh",
        "outputId": "0d212aa9-0da6-4f35-b4ff-6284e2ba3c35"
      },
      "outputs": [
        {
          "name": "stdout",
          "output_type": "stream",
          "text": [
            "{'Aditi': [78, 74], 'Pia': [88, 98], 'Komal': [55, 59], 'Prabh': [90, 80]}\n",
            "Aditi average is 76.0\n",
            "Pia average is 93.0\n",
            "Komal average is 57.0\n",
            "Prabh average is 85.0\n"
          ]
        }
      ],
      "source": [
        "#10. Create a program that takes a list of tuples (name, score) and builds a dictionary\n",
        "#where each name is a key, and the value is a list of all their scores. Then calculate and print\n",
        "#each person's average score.\n",
        "list= [('Aditi',78),('Pia',88),('Komal',55),('Prabh',90),('Aditi',74),('Pia',98),('Komal',59),('Prabh',80)]\n",
        "score_dict={}\n",
        "for name,score in list:\n",
        "    if name in  score_dict:\n",
        "        score_dict[name].append(score)\n",
        "    else:\n",
        "        score_dict[name]=[score]\n",
        "print(score_dict)\n",
        "for name, score in score_dict.items():\n",
        "    avg= sum(score)/len(score)\n",
        "    print(name,\"average is\",avg)\n",
        "\n",
        "\n"
      ]
    },
    {
      "cell_type": "markdown",
      "metadata": {
        "id": "3l62wdEv2f22"
      },
      "source": [
        "assignment 5\n"
      ]
    },
    {
      "cell_type": "code",
      "execution_count": null,
      "metadata": {
        "colab": {
          "base_uri": "https://localhost:8080/"
        },
        "id": "woFahn7v2fij",
        "outputId": "86ec3136-7f23-44cc-8997-160d76a7f339"
      },
      "outputs": [
        {
          "name": "stdout",
          "output_type": "stream",
          "text": [
            "Enter no. of lines: 5\n",
            "    *\n",
            "   ***\n",
            "  *****\n",
            " *******\n",
            "*********\n"
          ]
        }
      ],
      "source": [
        "#WAP to make a pyramid.\n",
        "def pyramid(n, current=1):\n",
        "    if current > n:\n",
        "        return\n",
        "    spaces = ' ' * (n - current)\n",
        "    stars = '*' * (2 * current - 1)\n",
        "    print(spaces + stars)\n",
        "    pyramid(n, current + 1)\n",
        "\n",
        "n=int(input(\"Enter no. of lines: \"))\n",
        "pyramid(n)\n",
        "\n",
        "\n",
        "\n",
        "\n",
        "\n"
      ]
    },
    {
      "cell_type": "code",
      "execution_count": null,
      "metadata": {
        "colab": {
          "base_uri": "https://localhost:8080/"
        },
        "id": "mEWVJQQB2sf7",
        "outputId": "86e65b77-20da-4d45-d7d2-6010f078d46e"
      },
      "outputs": [
        {
          "name": "stdout",
          "output_type": "stream",
          "text": [
            "Enter No.:4\n",
            "*\n",
            "**\n",
            "***\n",
            "****\n",
            "None\n"
          ]
        }
      ],
      "source": [
        "#Generate a pattern like:\n",
        "'''\n",
        "*\n",
        "* *\n",
        "* * *\n",
        "* * * *\n",
        "'''\n",
        "def pattern(n, current=1):\n",
        "    if(current>n):\n",
        "     return\n",
        "    print(\"*\"* current)\n",
        "    pattern(n, current+1)\n",
        "n= int(input(\"Enter No.:\"))\n",
        "print(pattern(n))"
      ]
    },
    {
      "cell_type": "code",
      "execution_count": null,
      "metadata": {
        "colab": {
          "base_uri": "https://localhost:8080/"
        },
        "id": "vHBIIQWI2yQH",
        "outputId": "579b913b-9343-424e-be85-02e7c38048e0"
      },
      "outputs": [
        {
          "name": "stdout",
          "output_type": "stream",
          "text": [
            "Enter the size of the square: 6\n",
            "* * * * * * \n",
            "* * * * * * \n",
            "* * * * * * \n",
            "* * * * * * \n",
            "* * * * * * \n",
            "* * * * * * \n"
          ]
        }
      ],
      "source": [
        "#Draw a sqaure pattern like star.\n",
        "def square_pattern(n):\n",
        "    for i in range(n):\n",
        "        print(\"* \" * n)\n",
        "\n",
        "size = int(input(\"Enter the size of the square: \"))\n",
        "square_pattern(size)"
      ]
    },
    {
      "cell_type": "code",
      "execution_count": null,
      "metadata": {
        "colab": {
          "base_uri": "https://localhost:8080/"
        },
        "id": "49fMbnrp236s",
        "outputId": "26623773-7464-4d16-b5a1-ba08c2476b76"
      },
      "outputs": [
        {
          "name": "stdout",
          "output_type": "stream",
          "text": [
            "Enter the length of rectangle: 8\n",
            "Enter the breadth of rectangle: 4\n",
            "* * * * * * * * \n",
            "* * * * * * * * \n",
            "* * * * * * * * \n",
            "* * * * * * * * \n",
            "None\n"
          ]
        }
      ],
      "source": [
        "#Draw a rectangle pattern like star.\n",
        "#area of rectangle = lXb\n",
        "def rectangle_pattern(l,b):\n",
        "    for i in range(b):\n",
        "        print(\"* \" * l)\n",
        "l= int(input(\"Enter the length of rectangle: \"))\n",
        "b= int(input(\"Enter the breadth of rectangle: \"))\n",
        "print(rectangle_pattern(l,b))\n",
        "\n",
        "\n"
      ]
    },
    {
      "cell_type": "markdown",
      "metadata": {
        "id": "abkmhV3n3SpP"
      },
      "source": [
        "assignment 6"
      ]
    },
    {
      "cell_type": "code",
      "execution_count": null,
      "metadata": {
        "colab": {
          "base_uri": "https://localhost:8080/"
        },
        "id": "Q44NfEAo3W1H",
        "outputId": "77f76e2b-06d8-495a-b560-2ef47714dfbb"
      },
      "outputs": [
        {
          "name": "stdout",
          "output_type": "stream",
          "text": [
            "('hello', 2, 3.14, True)\n",
            "type: <class 'tuple'>\n"
          ]
        }
      ],
      "source": [
        "#1.  Write a Python program to create a tuple with different data types and print its type.\n",
        "tuple=('hello', 2, 3.14, True)\n",
        "print(tuple)\n",
        "print(\"type:\", type(tuple))"
      ]
    },
    {
      "cell_type": "code",
      "execution_count": null,
      "metadata": {
        "colab": {
          "base_uri": "https://localhost:8080/"
        },
        "id": "uH771prG3gNU",
        "outputId": "b7c2e04f-2ffb-4321-9bf3-2e13c930adea"
      },
      "outputs": [
        {
          "name": "stdout",
          "output_type": "stream",
          "text": [
            "second last elemnt is: 40\n"
          ]
        }
      ],
      "source": [
        "#2. Given a tuple t = (10, 20, 30, 40, 50), write a program to access the second last element.\n",
        "t = (10, 20, 30, 40, 50)\n",
        "second_last= t[-2]\n",
        "print(\"second last elemnt is:\",second_last)"
      ]
    },
    {
      "cell_type": "code",
      "execution_count": null,
      "metadata": {
        "colab": {
          "base_uri": "https://localhost:8080/"
        },
        "id": "lNkRwSvE3i_x",
        "outputId": "ab9fdcb6-9ebf-4425-f392-0eafa1504bea"
      },
      "outputs": [
        {
          "name": "stdout",
          "output_type": "stream",
          "text": [
            "2\n"
          ]
        }
      ],
      "source": [
        "# 3. Write a program to count the number of times a given element appears in a tuple.\n",
        "tuple=(2,5,7,8,10,3,5,8,7,12,10,3,8,0)\n",
        "t= tuple.count(10)\n",
        "print(t)\n"
      ]
    },
    {
      "cell_type": "code",
      "execution_count": null,
      "metadata": {
        "colab": {
          "base_uri": "https://localhost:8080/"
        },
        "id": "Uvdj6VP93pQy",
        "outputId": "97ca386f-99e6-44ed-9f5e-6a198b9914b0"
      },
      "outputs": [
        {
          "name": "stdout",
          "output_type": "stream",
          "text": [
            "Python is fun\n"
          ]
        }
      ],
      "source": [
        "#4. Write a program to convert a tuple of strings into a single string. Example: ('Python', 'is', 'fun') --> 'Python is fun'\n",
        "tuple=('Python', 'is', 'fun')\n",
        "single_string= ' '.join(tuple)\n",
        "print (single_string)\n"
      ]
    },
    {
      "cell_type": "code",
      "execution_count": null,
      "metadata": {
        "colab": {
          "base_uri": "https://localhost:8080/"
        },
        "id": "xZ3QCuSu3tfu",
        "outputId": "90f3af95-9927-49b1-e957-807cbdcd8cce"
      },
      "outputs": [
        {
          "name": "stdout",
          "output_type": "stream",
          "text": [
            "4\n"
          ]
        }
      ],
      "source": [
        "#5. Write a Python program to find the index of an element in a tuple\n",
        "tuple=(2,5,7,8,10,3,12,0)\n",
        "t= tuple.index(10)\n",
        "print(t)"
      ]
    },
    {
      "cell_type": "code",
      "execution_count": null,
      "metadata": {
        "colab": {
          "base_uri": "https://localhost:8080/"
        },
        "id": "Vm85s2WW3w_u",
        "outputId": "6ca98839-0bb7-4764-ac81-28f247d55cc6"
      },
      "outputs": [
        {
          "name": "stdout",
          "output_type": "stream",
          "text": [
            "union: {'banana', 'melon', 'papaya', 'chiku', 'mango', 'apple', 'strawberry', 'muskmelon', 'kiwi'}\n",
            "intersection: {'kiwi', 'melon'}\n",
            "difference: {'banana', 'papaya', 'chiku', 'mango', 'apple'}\n"
          ]
        }
      ],
      "source": [
        "# 6. Write a Python program to create two sets and perform union, intersection, and difference operations.\n",
        "set1={'apple', 'mango','banana','chiku', 'papaya','kiwi','melon'}\n",
        "set2={'muskmelon', 'strawberry','kiwi','melon'}\n",
        "\n",
        "union = set1.union(set2)\n",
        "print(\"union:\", union)\n",
        "intersection = set1.intersection(set2)\n",
        "print(\"intersection:\", intersection)\n",
        "difference = set1.difference(set2)\n",
        "print(\"difference:\", difference)"
      ]
    },
    {
      "cell_type": "code",
      "execution_count": null,
      "metadata": {
        "colab": {
          "base_uri": "https://localhost:8080/"
        },
        "id": "QfqjKl2W30VD",
        "outputId": "72dae7b6-60a2-4e61-8b3c-36396302b089"
      },
      "outputs": [
        {
          "name": "stdout",
          "output_type": "stream",
          "text": [
            "Enter an element to check: apple\n",
            "apple is 'present' in the set.\n"
          ]
        }
      ],
      "source": [
        "#7. Write a program to check if a given element is present in a set or not\n",
        "set ={'apple', 'mango','banana','chiku', 'papaya','kiwi','melon'}\n",
        "element = input(\"Enter an element to check: \")\n",
        "\n",
        "if element in set:\n",
        "    print(f\"{element} is \\'present\\' in the set.\")\n",
        "else:\n",
        "    print(f\"{element} is \\'NOT present\\' in the set.\")"
      ]
    },
    {
      "cell_type": "code",
      "execution_count": 1,
      "metadata": {
        "colab": {
          "base_uri": "https://localhost:8080/"
        },
        "id": "bI_0BkF0KFKn",
        "outputId": "650d3618-36ea-49e3-a579-aa0bbbb79f2a"
      },
      "outputs": [
        {
          "output_type": "stream",
          "name": "stdout",
          "text": [
            "Original List: [10, 20, 10, 30, 40, 20, 60, 50, 40, 20]\n",
            "List after removing duplicates: {40, 10, 50, 20, 60, 30}\n"
          ]
        }
      ],
      "source": [
        "#8. Write a program to remove duplicate elements from a list using a set.\n",
        "\n",
        "my_list = [10, 20, 10, 30, 40, 20, 60,50,40,20]\n",
        "unique_elements_set = set(my_list)\n",
        "\n",
        "print(\"Original List:\", my_list)\n",
        "print(\"List after removing duplicates:\", unique_elements_set)"
      ]
    },
    {
      "cell_type": "code",
      "execution_count": null,
      "metadata": {
        "colab": {
          "base_uri": "https://localhost:8080/"
        },
        "id": "3Oenv44K4OLP",
        "outputId": "38b118eb-fd38-4425-876c-270c5c431edb"
      },
      "outputs": [
        {
          "name": "stdout",
          "output_type": "stream",
          "text": [
            "{'banana', 'papaya', 'chiku', 'mango', 'apple', 'strawberry', 'muskmelon'}\n"
          ]
        }
      ],
      "source": [
        "#9. Write a Python program to find the symmetric difference between two sets.\n",
        "set1={'apple', 'mango','banana','chiku', 'papaya','kiwi','melon'}\n",
        "set2={'muskmelon', 'strawberry','kiwi','melon'}\n",
        "symmetric_diff = set1.symmetric_difference(set2)\n",
        "print(symmetric_diff)"
      ]
    },
    {
      "cell_type": "code",
      "execution_count": 6,
      "metadata": {
        "colab": {
          "base_uri": "https://localhost:8080/"
        },
        "id": "vAT3WTg65XtW",
        "outputId": "557013af-b67d-4e09-dfa2-1e6e9b232b39"
      },
      "outputs": [
        {
          "output_type": "stream",
          "name": "stdout",
          "text": [
            "Original List: [2, 1, 5, 4, 6, 3, 2, 4, 8, 6, 9, 2]\n",
            "Unique Elements: {1, 2, 3, 4, 5, 6, 8, 9}\n"
          ]
        }
      ],
      "source": [
        "#10. Given a list of numbers, write a Python program to find all unique elements using sets.\n",
        "#10. Given a list of numbers, write a Python program to find all unique elements using sets.\n",
        "my_list=[2,1,5,4,6,3,2,4,8,6,9,2]\n",
        "unique_elements=set(my_list)\n",
        "print(\"Original List:\", my_list)\n",
        "print(\"Unique Elements:\", unique_elements)"
      ]
    },
    {
      "cell_type": "markdown",
      "metadata": {
        "id": "pey__Dw1q0A2"
      },
      "source": [
        "assignment 7"
      ]
    },
    {
      "cell_type": "code",
      "execution_count": null,
      "metadata": {
        "colab": {
          "base_uri": "https://localhost:8080/"
        },
        "id": "DwqZnx8Uq20g",
        "outputId": "d2a8ae56-97ad-4160-d125-c4b189d04449"
      },
      "outputs": [
        {
          "name": "stdout",
          "output_type": "stream",
          "text": [
            "362880\n"
          ]
        }
      ],
      "source": [
        "#1. Write a function to find the factorial of a number using recursion.\n",
        "def fact(n):\n",
        "   if n < 0:\n",
        "       return \"Factorial is not defined for negative numbers\"\n",
        "   elif n == 0 or n == 1:\n",
        "       return 1\n",
        "   else:\n",
        "       result = 1\n",
        "       for i in range(2, n + 1):\n",
        "           result *= i\n",
        "       return result\n",
        "print(fact(9))"
      ]
    },
    {
      "cell_type": "code",
      "execution_count": null,
      "metadata": {
        "colab": {
          "base_uri": "https://localhost:8080/"
        },
        "id": "3U1kye9-rHBy",
        "outputId": "5f4ea0e2-d7cb-4ddb-bbd4-352ec42e6c6c"
      },
      "outputs": [
        {
          "name": "stdout",
          "output_type": "stream",
          "text": [
            "True\n"
          ]
        }
      ],
      "source": [
        "#2. Write a function that checks whether a number is prime or not.\n",
        "def is_prime(n):\n",
        "   if n <= 1:\n",
        "       return False\n",
        "   for i in range(2, int(n**0.5) + 1):\n",
        "       if n % i == 0:\n",
        "           return False\n",
        "   return True\n",
        "print(is_prime(7))"
      ]
    },
    {
      "cell_type": "code",
      "execution_count": null,
      "metadata": {
        "colab": {
          "base_uri": "https://localhost:8080/"
        },
        "id": "SCE7QhBMrLt-",
        "outputId": "7c5ced62-04d9-4adf-d126-03efc26735b3"
      },
      "outputs": [
        {
          "name": "stdout",
          "output_type": "stream",
          "text": [
            "7\n"
          ]
        }
      ],
      "source": [
        "#3. Create a function that takes a string as input and returns the number of vowels in it.\n",
        "def count_vowels(s):\n",
        "    vowels = \"aeiouAEIOU\"\n",
        "    count = 0\n",
        "    for char in s:\n",
        "        if char in vowels:\n",
        "            count += 1\n",
        "    return count\n",
        "print(count_vowels(\"Hello! Myself Prabhjot Kaur\"))"
      ]
    },
    {
      "cell_type": "code",
      "execution_count": null,
      "metadata": {
        "colab": {
          "base_uri": "https://localhost:8080/"
        },
        "id": "OMa1bcqArO1p",
        "outputId": "a696809f-4606-49cf-d364-bfa32734716d"
      },
      "outputs": [
        {
          "name": "stdout",
          "output_type": "stream",
          "text": [
            "(9, 1)\n"
          ]
        }
      ],
      "source": [
        "# 4. Write a function that accepts a list of numbers and returns the maximum and minimum values.\n",
        "def find_max_min(numbers):\n",
        "   if not numbers:\n",
        "       return None\n",
        "   max_num = min_num = numbers[0]\n",
        "   for num in numbers:\n",
        "       if num > max_num:\n",
        "           max_num = num\n",
        "       if num < min_num:\n",
        "           min_num = num\n",
        "   return max_num, min_num\n",
        "print(find_max_min([3, 1, 4, 1, 5, 9, 2, 6]))"
      ]
    },
    {
      "cell_type": "code",
      "execution_count": null,
      "metadata": {
        "colab": {
          "base_uri": "https://localhost:8080/"
        },
        "id": "0pG6fzA-rR3q",
        "outputId": "31be29f8-7da0-4971-a26d-bbda0521801e"
      },
      "outputs": [
        {
          "name": "stdout",
          "output_type": "stream",
          "text": [
            "Enter no: 34\n",
            "[0, 1, 1, 2, 3, 5, 8, 13, 21, 34, 55, 89, 144, 233, 377, 610, 987, 1597, 2584, 4181, 6765, 10946, 17711, 28657, 46368, 75025, 121393, 196418, 317811, 514229, 832040, 1346269, 2178309, 3524578]\n"
          ]
        }
      ],
      "source": [
        "#5. Write a Python function to calculate the nth Fibonacci number using recursion.\n",
        "def fibonacci(n):\n",
        "   if n <= 0:\n",
        "      return []\n",
        "   elif n == 1:\n",
        "       return [0]\n",
        "   elif n == 2:\n",
        "       return [0, 1]\n",
        "\n",
        "   fib_series = [0, 1]\n",
        "   for i in range(2, n):\n",
        "       next_value = fib_series[i - 1] + fib_series[i - 2]\n",
        "       fib_series.append(next_value)\n",
        "   return fib_series\n",
        "n= int(input(\"Enter no: \"))\n",
        "print(fibonacci(n))"
      ]
    },
    {
      "cell_type": "code",
      "execution_count": null,
      "metadata": {
        "colab": {
          "base_uri": "https://localhost:8080/"
        },
        "id": "J98pYSWzrZ4f",
        "outputId": "08caa1f4-9e68-422c-eb4e-bf92a9323829"
      },
      "outputs": [
        {
          "name": "stdout",
          "output_type": "stream",
          "text": [
            "Enter first number: 14\n",
            "Enter second number: 13\n",
            "The GCD is: 1\n"
          ]
        }
      ],
      "source": [
        "import math\n",
        "def find_gcd(a, b):\n",
        "    return math.gcd(a, b)\n",
        "num1 = int(input(\"Enter first number: \"))\n",
        "num2 = int(input(\"Enter second number: \"))\n",
        "print(\"The GCD is:\", find_gcd(num1, num2))"
      ]
    },
    {
      "cell_type": "code",
      "execution_count": 8,
      "metadata": {
        "colab": {
          "base_uri": "https://localhost:8080/",
          "height": 297
        },
        "id": "wcybir_kKoIe",
        "outputId": "406a7eda-47ca-413b-b0b5-c9dcb1723c74"
      },
      "outputs": [
        {
          "output_type": "error",
          "ename": "TypeError",
          "evalue": "'list' object is not callable",
          "traceback": [
            "\u001b[0;31m---------------------------------------------------------------------------\u001b[0m",
            "\u001b[0;31mTypeError\u001b[0m                                 Traceback (most recent call last)",
            "\u001b[0;32m/tmp/ipython-input-8-3024961520.py\u001b[0m in \u001b[0;36m<cell line: 0>\u001b[0;34m()\u001b[0m\n\u001b[1;32m      5\u001b[0m \u001b[0;34m\u001b[0m\u001b[0m\n\u001b[1;32m      6\u001b[0m \u001b[0mmy_list\u001b[0m \u001b[0;34m=\u001b[0m \u001b[0;34m[\u001b[0m\u001b[0;36m1\u001b[0m\u001b[0;34m,\u001b[0m \u001b[0;36m2\u001b[0m\u001b[0;34m,\u001b[0m \u001b[0;36m2\u001b[0m\u001b[0;34m,\u001b[0m \u001b[0;36m3\u001b[0m\u001b[0;34m,\u001b[0m \u001b[0;36m4\u001b[0m\u001b[0;34m,\u001b[0m \u001b[0;36m4\u001b[0m\u001b[0;34m,\u001b[0m \u001b[0;36m5\u001b[0m\u001b[0;34m]\u001b[0m\u001b[0;34m\u001b[0m\u001b[0;34m\u001b[0m\u001b[0m\n\u001b[0;32m----> 7\u001b[0;31m \u001b[0mprint\u001b[0m\u001b[0;34m(\u001b[0m\u001b[0munique_elements\u001b[0m\u001b[0;34m(\u001b[0m\u001b[0mmy_list\u001b[0m\u001b[0;34m)\u001b[0m\u001b[0;34m)\u001b[0m\u001b[0;34m\u001b[0m\u001b[0;34m\u001b[0m\u001b[0m\n\u001b[0m",
            "\u001b[0;32m/tmp/ipython-input-8-3024961520.py\u001b[0m in \u001b[0;36munique_elements\u001b[0;34m(lst)\u001b[0m\n\u001b[1;32m      2\u001b[0m \u001b[0;32mdef\u001b[0m \u001b[0munique_elements\u001b[0m\u001b[0;34m(\u001b[0m\u001b[0mlst\u001b[0m\u001b[0;34m)\u001b[0m\u001b[0;34m:\u001b[0m\u001b[0;34m\u001b[0m\u001b[0;34m\u001b[0m\u001b[0m\n\u001b[1;32m      3\u001b[0m     \u001b[0munique_set\u001b[0m \u001b[0;34m=\u001b[0m \u001b[0mset\u001b[0m\u001b[0;34m(\u001b[0m\u001b[0mlst\u001b[0m\u001b[0;34m)\u001b[0m\u001b[0;34m\u001b[0m\u001b[0;34m\u001b[0m\u001b[0m\n\u001b[0;32m----> 4\u001b[0;31m     \u001b[0;32mreturn\u001b[0m \u001b[0mlist\u001b[0m\u001b[0;34m(\u001b[0m\u001b[0munique_set\u001b[0m\u001b[0;34m)\u001b[0m\u001b[0;34m\u001b[0m\u001b[0;34m\u001b[0m\u001b[0m\n\u001b[0m\u001b[1;32m      5\u001b[0m \u001b[0;34m\u001b[0m\u001b[0m\n\u001b[1;32m      6\u001b[0m \u001b[0mmy_list\u001b[0m \u001b[0;34m=\u001b[0m \u001b[0;34m[\u001b[0m\u001b[0;36m1\u001b[0m\u001b[0;34m,\u001b[0m \u001b[0;36m2\u001b[0m\u001b[0;34m,\u001b[0m \u001b[0;36m2\u001b[0m\u001b[0;34m,\u001b[0m \u001b[0;36m3\u001b[0m\u001b[0;34m,\u001b[0m \u001b[0;36m4\u001b[0m\u001b[0;34m,\u001b[0m \u001b[0;36m4\u001b[0m\u001b[0;34m,\u001b[0m \u001b[0;36m5\u001b[0m\u001b[0;34m]\u001b[0m\u001b[0;34m\u001b[0m\u001b[0;34m\u001b[0m\u001b[0m\n",
            "\u001b[0;31mTypeError\u001b[0m: 'list' object is not callable"
          ]
        }
      ],
      "source": [
        "#7. Write a function that takes a list and returns a new list with only unique elements.\n",
        "def unique_elements(lst):\n",
        "    unique_set = set(lst)\n",
        "    return list(unique_set)\n",
        "\n",
        "my_list = [1, 2, 2, 3, 4, 4, 5]\n",
        "print(unique_elements(my_list))"
      ]
    },
    {
      "cell_type": "code",
      "execution_count": null,
      "metadata": {
        "colab": {
          "base_uri": "https://localhost:8080/"
        },
        "id": "8_mOZ2HKKrm9",
        "outputId": "1e697513-82c2-45a2-f9c2-3cf7e0ba772f"
      },
      "outputs": [
        {
          "name": "stdout",
          "output_type": "stream",
          "text": [
            "Enter No.: 1\n",
            "True\n"
          ]
        }
      ],
      "source": [
        "#9. Write a function that takes a number and returns True if it is a palindrome, otherwise False.\n",
        "def is_palindrome(n):\n",
        "   str_n = str(n)\n",
        "   return str_n == str_n[::-1]\n",
        "n=int(input(\"Enter No.: \"))\n",
        "print(is_palindrome(n))\n"
      ]
    },
    {
      "cell_type": "code",
      "execution_count": null,
      "metadata": {
        "colab": {
          "base_uri": "https://localhost:8080/"
        },
        "id": "2tOQe8t2Krlm",
        "outputId": "d24c47ee-e37b-4dcd-dd92-adc8bb58a633"
      },
      "outputs": [
        {
          "name": "stdout",
          "output_type": "stream",
          "text": [
            "Enter tempreature:32\n",
            "0.0, degree celsisus\n",
            "Enter tempreature:23\n",
            "73.4\n"
          ]
        }
      ],
      "source": [
        "# 10. Create a function that takes a temperature in Celsius and returns it in Fahrenheit\n",
        "#formulaa: c/5=(f-32)/9\n",
        "def f_to_c(f):\n",
        "    return 5*(f-32)/9\n",
        "f=int(input(\"Enter tempreature:\"))\n",
        "c=f_to_c(f)\n",
        "print(f\"{round(c,3)}, degree celsisus\")\n",
        "\n",
        "#method 2\n",
        "def celsius_to_fahrenheit(celsius):\n",
        "   return (celsius * 9/5) + 32\n",
        "celsisus= int(input(\"Enter tempreature:\"))\n",
        "print(celsius_to_fahrenheit(celsisus))\n"
      ]
    },
    {
      "cell_type": "markdown",
      "metadata": {
        "id": "4k0K5DqMLHdP"
      },
      "source": [
        "assignment 9"
      ]
    },
    {
      "cell_type": "code",
      "execution_count": null,
      "metadata": {
        "colab": {
          "base_uri": "https://localhost:8080/"
        },
        "id": "kfUhFfqALFNT",
        "outputId": "93742438-74e8-4f19-8065-7592c6d89e04"
      },
      "outputs": [
        {
          "name": "stdout",
          "output_type": "stream",
          "text": [
            "Array: [ 1  2  3  4  5  6  7  8  9 10]\n",
            "Shape: (10,)\n",
            "Dimension: 1\n",
            "Data type: int64\n"
          ]
        }
      ],
      "source": [
        "# 1. Create a NumPy array with values from 1 to 10. Print the shape, dimension, and data type of the array.\n",
        "import numpy as np\n",
        "arr = np.arange(1, 11)\n",
        "\n",
        "print(\"Array:\", arr)\n",
        "print(\"Shape:\", arr.shape)\n",
        "print(\"Dimension:\", arr.ndim)\n",
        "print(\"Data type:\", arr.dtype)"
      ]
    },
    {
      "cell_type": "code",
      "execution_count": null,
      "metadata": {
        "colab": {
          "base_uri": "https://localhost:8080/"
        },
        "id": "olE-PzTOLNa9",
        "outputId": "d12ca953-c213-4c63-b640-09f07ad09b0d"
      },
      "outputs": [
        {
          "name": "stdout",
          "output_type": "stream",
          "text": [
            "3x3 Zeros Array: [[0. 0. 0.]\n",
            " [0. 0. 0.]\n",
            " [0. 0. 0.]]\n",
            "\n",
            "3x3 Ones Array: [[1. 1. 1.]\n",
            " [1. 1. 1.]\n",
            " [1. 1. 1.]]\n",
            "\n",
            "3x3 Ones identity_matrix: [[1. 0. 0.]\n",
            " [0. 1. 0.]\n",
            " [0. 0. 1.]]\n"
          ]
        }
      ],
      "source": [
        "#2. Create a 3x3 NumPy array of all zeros and another of all ones. Then create a 3x3 identity matrix.\n",
        "import numpy as np\n",
        "zeros_array = np.zeros((3, 3))\n",
        "print(\"3x3 Zeros Array:\", zeros_array)\n",
        "ones_array = np.ones((3, 3))\n",
        "print(\"\\n3x3 Ones Array:\", ones_array)\n",
        "identity_matrix = np.eye(3)\n",
        "print(\"\\n3x3 Ones identity_matrix:\",identity_matrix)"
      ]
    },
    {
      "cell_type": "code",
      "execution_count": null,
      "metadata": {
        "colab": {
          "base_uri": "https://localhost:8080/"
        },
        "id": "uz8FWskXLTzb",
        "outputId": "7045cabd-b484-494e-a6ac-db17cade168e"
      },
      "outputs": [
        {
          "name": "stdout",
          "output_type": "stream",
          "text": [
            "3x5 Matrix of random integers between 10 and 100:\n",
            "[[23 55 75 56 71]\n",
            " [34 93 73 15 21]\n",
            " [38 96 91 93 91]]\n"
          ]
        }
      ],
      "source": [
        "#3. Generate an array of 15 random integers between 10 and 100 using np.random.randint. Reshape it into a 3x5 matrix and print it.\n",
        "import numpy as np\n",
        "arr = np.random.randint(10, 101, size=15)\n",
        "matrix = arr.reshape(3, 5)\n",
        "print(\"3x5 Matrix of random integers between 10 and 100:\")\n",
        "print(matrix)"
      ]
    },
    {
      "cell_type": "code",
      "execution_count": null,
      "metadata": {
        "colab": {
          "base_uri": "https://localhost:8080/"
        },
        "id": "aSjowW9bLXPW",
        "outputId": "412375bd-36c4-40dd-83ab-63cfe4570e94"
      },
      "outputs": [
        {
          "name": "stdout",
          "output_type": "stream",
          "text": [
            "[ 1  2  3  4  5  6  7  8  9 10 11 12 13 14 15 16 17 18 19 20]\n",
            "[ 2  5  8 11 14 17 20]\n"
          ]
        }
      ],
      "source": [
        "# 4. Create a NumPy array from 1 to 20. Extract every 3rd element starting from index 1 using slicing.\n",
        "import numpy as np\n",
        "arr= np.arange(1,21)\n",
        "print(arr)\n",
        "print(arr[1:20:3])"
      ]
    },
    {
      "cell_type": "code",
      "execution_count": null,
      "metadata": {
        "colab": {
          "base_uri": "https://localhost:8080/"
        },
        "id": "2y7tL2CFLaTz",
        "outputId": "3d368538-e01e-4d72-92fa-91338cf5c0c1"
      },
      "outputs": [
        {
          "name": "stdout",
          "output_type": "stream",
          "text": [
            "[ 3  7 11 15]\n",
            "[ 2 12 30 56]\n",
            "[ True  True  True  True]\n"
          ]
        }
      ],
      "source": [
        "# 5. Create two arrays: a = np.array([2, 4, 6, 8]) and b = np.array([1, 3, 5, 7]). Perform element-wise\n",
        "#addition, multiplication, and compare which elements in a are greater than in b\n",
        "import numpy as np\n",
        "a = np.array([2, 4, 6, 8])\n",
        "b = np.array([1, 3, 5, 7])\n",
        "print(a+b) #addition\n",
        "print(a*b) #multiplication\n",
        "print(a>b) #comparison"
      ]
    },
    {
      "cell_type": "code",
      "execution_count": null,
      "metadata": {
        "colab": {
          "base_uri": "https://localhost:8080/"
        },
        "id": "yFBPOwD9LdzH",
        "outputId": "585e8e40-c48f-4245-a5cb-deb39ee346b2"
      },
      "outputs": [
        {
          "name": "stdout",
          "output_type": "stream",
          "text": [
            "[0.83846843 0.66015759 0.92936316 0.58329937 0.97929601 0.89938713\n",
            " 0.67097479 0.21809115 0.42722816 0.12403568 0.47817907 0.22389275\n",
            " 0.42067282 0.16677578 0.86536279 0.14898804 0.19963191 0.34698806\n",
            " 0.19672652 0.97813424]\n",
            "0.5177826721821834\n",
            "0.4527036135436804\n",
            "0.30452633032926363\n",
            "0.12403567821175399\n",
            "0.9792960070011254\n"
          ]
        }
      ],
      "source": [
        "# 6. Create a NumPy array with 20 random values (0 to 1) using np.random.rand(). Find the mean,\n",
        "# median, standard deviation, min, and max.\n",
        "import numpy as np\n",
        "arr= np.random.rand(20)\n",
        "print(arr)\n",
        "\n",
        "print(np.mean(arr))  #mean\n",
        "print(np.median(arr))  #median\n",
        "print(np.std(arr))  #standard deviation\n",
        "print(np.min(arr)) #min\n",
        "print(np.max(arr))  #max"
      ]
    },
    {
      "cell_type": "code",
      "execution_count": null,
      "metadata": {
        "colab": {
          "base_uri": "https://localhost:8080/"
        },
        "id": "49Xloo90Lg_F",
        "outputId": "677e770d-a3dc-460b-a4eb-886f4435e51a"
      },
      "outputs": [
        {
          "name": "stdout",
          "output_type": "stream",
          "text": [
            "[[3 5]\n",
            " [7 9]]\n",
            "sum across rows: [ 8 16]\n",
            "sum across column: [10 14]\n"
          ]
        }
      ],
      "source": [
        "# 7. Given: arr = np.array([[3, 5], [7, 9]]). Find the sum across rows and columns using axis.\n",
        "import numpy as np\n",
        "arr = np.array([[3, 5], [7, 9]])\n",
        "print(arr)\n",
        "row_sum= arr.sum(axis=1)\n",
        "print(\"sum across rows:\",row_sum)\n",
        "column_sum= arr.sum(axis=0)\n",
        "print(\"sum across column:\",column_sum)"
      ]
    },
    {
      "cell_type": "code",
      "execution_count": null,
      "metadata": {
        "colab": {
          "base_uri": "https://localhost:8080/"
        },
        "id": "SWYX0a_TLlEP",
        "outputId": "77482090-fdab-4052-9c5c-b06c09a5e2e7"
      },
      "outputs": [
        {
          "name": "stdout",
          "output_type": "stream",
          "text": [
            "Even no.: [10 12 14 16 18 20 22 24 26 28 30]\n"
          ]
        }
      ],
      "source": [
        "# 8. Create a NumPy array of numbers from 10 to 30. Filter and print only the even numbers using boolean indexing.\n",
        "import numpy as np\n",
        "arr = np.arange(10, 31)\n",
        "even = arr[arr % 2 == 0]\n",
        "print(\"Even no.:\", even)"
      ]
    },
    {
      "cell_type": "code",
      "execution_count": null,
      "metadata": {
        "colab": {
          "base_uri": "https://localhost:8080/"
        },
        "id": "p0y4akIMLkse",
        "outputId": "28519245-053a-4602-8bea-81b171ea9f3a"
      },
      "outputs": [
        {
          "name": "stdout",
          "output_type": "stream",
          "text": [
            "[17 25 -1 -1 47 -1 15 12 40 -1]\n"
          ]
        }
      ],
      "source": [
        "# 9. Generate an array of 10 random integers from 1 to 100. Replace all elements greater than 50 with-1.\n",
        "import numpy as np\n",
        "arr= np.random.randint(1,101,size=10)\n",
        "arr[arr>50]=-1\n",
        "print(arr)"
      ]
    },
    {
      "cell_type": "code",
      "execution_count": null,
      "metadata": {
        "colab": {
          "base_uri": "https://localhost:8080/"
        },
        "id": "wZx0BAbILx_h",
        "outputId": "2a7d5169-6033-4e91-f8e0-24f091e3fcf3"
      },
      "outputs": [
        {
          "name": "stdout",
          "output_type": "stream",
          "text": [
            "Vertical Stack:\n",
            " [[1 2]\n",
            " [3 4]\n",
            " [5 6]\n",
            " [7 8]]\n",
            "Horizontal Stack:\n",
            " [[1 2 5 6]\n",
            " [3 4 7 8]]\n",
            "Flattened: [1 2 5 6 3 4 7 8]\n"
          ]
        }
      ],
      "source": [
        "#10. Create two arrays: x = np.array([[1, 2], [3, 4]]) and y = np.array([[5, 6], [7, 8]]). Stack them\n",
        "# vertically and horizontally, then flatten the result into a 1D array.\n",
        "import numpy as np\n",
        "x = np.array([[1, 2], [3, 4]])\n",
        "y = np.array([[5, 6], [7, 8]])\n",
        "\n",
        "v_stack = np.vstack((x, y))\n",
        "h_stack = np.hstack((x, y))\n",
        "flattened = h_stack.flatten()\n",
        "print(\"Vertical Stack:\\n\", v_stack)\n",
        "print(\"Horizontal Stack:\\n\", h_stack)\n",
        "print(\"Flattened:\", flattened)"
      ]
    },
    {
      "cell_type": "markdown",
      "metadata": {
        "id": "tx1xBfXFPzmL"
      },
      "source": [
        "class work\n"
      ]
    },
    {
      "cell_type": "code",
      "execution_count": null,
      "metadata": {
        "colab": {
          "base_uri": "https://localhost:8080/"
        },
        "id": "dbdba1d7",
        "outputId": "a81d6093-bb14-4d66-a044-ce93bde0b464"
      },
      "outputs": [
        {
          "name": "stdout",
          "output_type": "stream",
          "text": [
            "t\n"
          ]
        }
      ],
      "source": [
        "name = \"ekjot\"\n",
        "last_letter = name[-1]\n",
        "print(last_letter)"
      ]
    },
    {
      "cell_type": "code",
      "execution_count": null,
      "metadata": {
        "colab": {
          "base_uri": "https://localhost:8080/",
          "height": 430
        },
        "id": "ccVAoe_GP5zG",
        "outputId": "baf42a2a-2b04-48c5-efeb-d643ef1f1468"
      },
      "outputs": [
        {
          "data": {
            "image/png": "[encoded data removed]",
            "text/plain": [
              "<Figure size 640x480 with 1 Axes>"
            ]
          },
          "metadata": {},
          "output_type": "display_data"
        }
      ],
      "source": [
        "import matplotlib.pyplot as plt\n",
        "plt.plot([1,2,3])\n",
        "plt.ylabel('some number')\n",
        "plt.show()"
      ]
    },
    {
      "cell_type": "code",
      "execution_count": null,
      "metadata": {
        "id": "9N7ESO7bU2wX"
      },
      "outputs": [],
      "source": [
        "plt.plot([1,2,3,4], [1,4,9,16])\n",
        "[]"
      ]
    },
    {
      "cell_type": "code",
      "execution_count": null,
      "metadata": {
        "colab": {
          "base_uri": "https://localhost:8080/",
          "height": 430
        },
        "id": "beuGq2tuWt8B",
        "outputId": "3aae6d55-f648-480c-ff48-a9a0616ff2b5"
      },
      "outputs": [
        {
          "data": {
            "image/png": "[encoded data removed]",
            "text/plain": [
              "<Figure size 640x480 with 1 Axes>"
            ]
          },
          "metadata": {},
          "output_type": "display_data"
        }
      ],
      "source": [
        "import matplotlib.pyplot as plt\n",
        "import numpy as np\n",
        "ypoints = np.array([3,4,1,5])\n",
        "plt.plot(ypoints, marker='o')\n",
        "plt.show()"
      ]
    },
    {
      "cell_type": "code",
      "execution_count": null,
      "metadata": {
        "colab": {
          "base_uri": "https://localhost:8080/",
          "height": 430
        },
        "id": "1UkDnSYLXulu",
        "outputId": "a763045b-5cdd-4b3d-e4fb-83c83f338d7b"
      },
      "outputs": [
        {
          "data": {
            "image/png": "[encoded data removed]",
            "text/plain": [
              "<Figure size 640x480 with 1 Axes>"
            ]
          },
          "metadata": {},
          "output_type": "display_data"
        }
      ],
      "source": [
        "import matplotlib.pyplot as plt\n",
        "import numpy as np\n",
        "ypoints = np.array([3,4,1,5])\n",
        "plt.plot(ypoints, marker='o', ms=20)\n",
        "plt.show()"
      ]
    },
    {
      "cell_type": "code",
      "execution_count": null,
      "metadata": {
        "colab": {
          "base_uri": "https://localhost:8080/",
          "height": 430
        },
        "id": "8wLRNE6CX5DO",
        "outputId": "1306d043-2edc-4c7b-90d8-6506a371ce0c"
      },
      "outputs": [
        {
          "data": {
            "image/png": "[encoded data removed]",
            "text/plain": [
              "<Figure size 640x480 with 1 Axes>"
            ]
          },
          "metadata": {},
          "output_type": "display_data"
        }
      ],
      "source": [
        "import matplotlib.pyplot as plt\n",
        "import numpy as np\n",
        "ypoints = np.array([3,4,1,5])\n",
        "plt.plot(ypoints, marker='o', ms =20, mfc ='r')\n",
        "plt.show()"
      ]
    },
    {
      "cell_type": "code",
      "execution_count": null,
      "metadata": {
        "colab": {
          "base_uri": "https://localhost:8080/",
          "height": 449
        },
        "id": "NoyMnnlZYWhC",
        "outputId": "136d809b-60d8-4e22-d5e4-4a0e6335fb42"
      },
      "outputs": [
        {
          "data": {
            "image/png": "[encoded data removed]",
            "text/plain": [
              "<Figure size 640x480 with 1 Axes>"
            ]
          },
          "metadata": {},
          "output_type": "display_data"
        }
      ],
      "source": [
        "import numpy as np\n",
        "import matplotlib.pyplot as plt\n",
        "x=np.array([80,85,90,95,100,105,110,115,120,125])\n",
        "y=np.array([240,250,260,270,280,290,300,310,320,330])\n",
        "plt.plot(x, y)\n",
        "plt.xlabel(\"average pluse\")\n",
        "plt.ylabel(\"calorie burnage\")\n",
        "plt.show()"
      ]
    },
    {
      "cell_type": "code",
      "execution_count": null,
      "metadata": {
        "colab": {
          "background_save": true,
          "base_uri": "https://localhost:8080/",
          "height": 660
        },
        "id": "11FU7emKaQsL",
        "outputId": "9ce90ea1-6fa3-47c1-8a25-5e21f49fcf4e"
      },
      "outputs": [
        {
          "data": {
            "image/png": "[encoded data removed]",
            "text/plain": [
              "<Figure size 640x480 with 1 Axes>"
            ]
          },
          "metadata": {},
          "output_type": "display_data"
        }
      ],
      "source": [
        "import numpy as np\n",
        "import matplotlib.pyplot as plt\n",
        "x=np.array([80,85,90,95,100,105,110,115,120,125])\n",
        "y=np.array([240,250,260,270,280,290,300,310,320,330])\n",
        "font1 ={'family':'serif','color':'blue','size':20}\n",
        "font2 ={'family':'serif','color':'blue','size':15}\n",
        "plt.title(\"data\",fontdict = font1)\n",
        "plt.xlabel(\"average pluse\",fontdict = font2)\n",
        "plt.ylabel(\"calorie burnage\",fontdict = font2)\n",
        "plt.polt(x,y)\n",
        "plt.show()"
      ]
    }
  ],
  "metadata": {
    "colab": {
      "provenance": [],
      "authorship_tag": "ABX9TyPm6ugSSMs0VcRvBG0xLdhD",
      "include_colab_link": true
    },
    "kernelspec": {
      "display_name": "Python 3",
      "name": "python3"
    },
    "language_info": {
      "name": "python"
    }
  },
  "nbformat": 4,
  "nbformat_minor": 0
}